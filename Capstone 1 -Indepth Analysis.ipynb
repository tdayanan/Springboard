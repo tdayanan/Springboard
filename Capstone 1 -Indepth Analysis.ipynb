{
 "cells": [
  {
   "cell_type": "markdown",
   "metadata": {},
   "source": [
    "**LOAN DEFAULT PREDICTION USING PYTHON**"
   ]
  },
  {
   "cell_type": "markdown",
   "metadata": {},
   "source": [
    "According to the American Bankers association survey, Banks with Home equity line of credit  and Home equity loans average a 1 percent return on assets (ROA) overall, but earn 1.5 percent on their HELOCs and 1.25 percent on their HELs, which means that these two products are more profitable for banks than their average loans. But the delinquency rate on Home equity loans is higher than all other types of consumer loans. It is imperative for banks to take calculated risks in this area for financial growth.\n"
   ]
  },
  {
   "cell_type": "markdown",
   "metadata": {},
   "source": [
    "A Bank offers a home equity line of credit to its clients. As per the dataset, many of these accepted applicants (approximately 20%) have defaulted on their loans. By using geographic, demographic, and financial variables, the bank wants to build a model to predict whether an applicant will default.\n"
   ]
  },
  {
   "cell_type": "markdown",
   "metadata": {},
   "source": [
    "The bank can apply the model to new loan applicants to filter applications. The accepted applicants will then be evaluated based on financial capacity to estimate the amount of loan that can be provided to prevent default."
   ]
  },
  {
   "cell_type": "code",
   "execution_count": 2,
   "metadata": {},
   "outputs": [],
   "source": [
    "import pandas as pd\n",
    "%matplotlib inline\n",
    "import matplotlib.pyplot as plt\n",
    "import numpy as np"
   ]
  },
  {
   "cell_type": "code",
   "execution_count": 3,
   "metadata": {},
   "outputs": [
    {
     "name": "stdout",
     "output_type": "stream",
     "text": [
      "<class 'pandas.core.frame.DataFrame'>\n",
      "RangeIndex: 5960 entries, 0 to 5959\n",
      "Data columns (total 13 columns):\n",
      "BAD        5960 non-null int64\n",
      "LOAN       5960 non-null int64\n",
      "MORTDUE    5442 non-null float64\n",
      "VALUE      5848 non-null float64\n",
      "REASON     5708 non-null object\n",
      "JOB        5681 non-null object\n",
      "YOJ        5445 non-null float64\n",
      "DEROG      5252 non-null float64\n",
      "DELINQ     5380 non-null float64\n",
      "CLAGE      5652 non-null float64\n",
      "NINQ       5450 non-null float64\n",
      "CLNO       5738 non-null float64\n",
      "DEBTINC    4693 non-null float64\n",
      "dtypes: float64(9), int64(2), object(2)\n",
      "memory usage: 605.4+ KB\n"
     ]
    }
   ],
   "source": [
    "# dataset=pd.read_csv(filepath, header =,names=, na_values= , parse_dates=[[0,1,2]]) \n",
    "\n",
    "df=pd.read_csv('C:/Users/velth/Desktop/Springboard/datasets/hmeq.csv')\n",
    "#print(df)\n",
    "\n",
    "#inital review of data with info() and head () methods\n",
    "\n",
    "df.info()\n",
    "#print (type(df))"
   ]
  },
  {
   "cell_type": "code",
   "execution_count": 4,
   "metadata": {},
   "outputs": [
    {
     "data": {
      "text/html": [
       "<div>\n",
       "<style scoped>\n",
       "    .dataframe tbody tr th:only-of-type {\n",
       "        vertical-align: middle;\n",
       "    }\n",
       "\n",
       "    .dataframe tbody tr th {\n",
       "        vertical-align: top;\n",
       "    }\n",
       "\n",
       "    .dataframe thead th {\n",
       "        text-align: right;\n",
       "    }\n",
       "</style>\n",
       "<table border=\"1\" class=\"dataframe\">\n",
       "  <thead>\n",
       "    <tr style=\"text-align: right;\">\n",
       "      <th></th>\n",
       "      <th>BAD</th>\n",
       "      <th>LOAN</th>\n",
       "      <th>MORTDUE</th>\n",
       "      <th>VALUE</th>\n",
       "      <th>REASON</th>\n",
       "      <th>JOB</th>\n",
       "      <th>YOJ</th>\n",
       "      <th>DEROG</th>\n",
       "      <th>DELINQ</th>\n",
       "      <th>CLAGE</th>\n",
       "      <th>NINQ</th>\n",
       "      <th>CLNO</th>\n",
       "      <th>DEBTINC</th>\n",
       "    </tr>\n",
       "  </thead>\n",
       "  <tbody>\n",
       "    <tr>\n",
       "      <td>0</td>\n",
       "      <td>1</td>\n",
       "      <td>1100</td>\n",
       "      <td>25860.0</td>\n",
       "      <td>39025.0</td>\n",
       "      <td>HomeImp</td>\n",
       "      <td>Other</td>\n",
       "      <td>10.5</td>\n",
       "      <td>0.0</td>\n",
       "      <td>0.0</td>\n",
       "      <td>94.366667</td>\n",
       "      <td>1.0</td>\n",
       "      <td>9.0</td>\n",
       "      <td>NaN</td>\n",
       "    </tr>\n",
       "    <tr>\n",
       "      <td>1</td>\n",
       "      <td>1</td>\n",
       "      <td>1300</td>\n",
       "      <td>70053.0</td>\n",
       "      <td>68400.0</td>\n",
       "      <td>HomeImp</td>\n",
       "      <td>Other</td>\n",
       "      <td>7.0</td>\n",
       "      <td>0.0</td>\n",
       "      <td>2.0</td>\n",
       "      <td>121.833333</td>\n",
       "      <td>0.0</td>\n",
       "      <td>14.0</td>\n",
       "      <td>NaN</td>\n",
       "    </tr>\n",
       "    <tr>\n",
       "      <td>2</td>\n",
       "      <td>1</td>\n",
       "      <td>1500</td>\n",
       "      <td>13500.0</td>\n",
       "      <td>16700.0</td>\n",
       "      <td>HomeImp</td>\n",
       "      <td>Other</td>\n",
       "      <td>4.0</td>\n",
       "      <td>0.0</td>\n",
       "      <td>0.0</td>\n",
       "      <td>149.466667</td>\n",
       "      <td>1.0</td>\n",
       "      <td>10.0</td>\n",
       "      <td>NaN</td>\n",
       "    </tr>\n",
       "    <tr>\n",
       "      <td>3</td>\n",
       "      <td>1</td>\n",
       "      <td>1500</td>\n",
       "      <td>NaN</td>\n",
       "      <td>NaN</td>\n",
       "      <td>NaN</td>\n",
       "      <td>NaN</td>\n",
       "      <td>NaN</td>\n",
       "      <td>NaN</td>\n",
       "      <td>NaN</td>\n",
       "      <td>NaN</td>\n",
       "      <td>NaN</td>\n",
       "      <td>NaN</td>\n",
       "      <td>NaN</td>\n",
       "    </tr>\n",
       "    <tr>\n",
       "      <td>4</td>\n",
       "      <td>0</td>\n",
       "      <td>1700</td>\n",
       "      <td>97800.0</td>\n",
       "      <td>112000.0</td>\n",
       "      <td>HomeImp</td>\n",
       "      <td>Office</td>\n",
       "      <td>3.0</td>\n",
       "      <td>0.0</td>\n",
       "      <td>0.0</td>\n",
       "      <td>93.333333</td>\n",
       "      <td>0.0</td>\n",
       "      <td>14.0</td>\n",
       "      <td>NaN</td>\n",
       "    </tr>\n",
       "  </tbody>\n",
       "</table>\n",
       "</div>"
      ],
      "text/plain": [
       "   BAD  LOAN  MORTDUE     VALUE   REASON     JOB   YOJ  DEROG  DELINQ  \\\n",
       "0    1  1100  25860.0   39025.0  HomeImp   Other  10.5    0.0     0.0   \n",
       "1    1  1300  70053.0   68400.0  HomeImp   Other   7.0    0.0     2.0   \n",
       "2    1  1500  13500.0   16700.0  HomeImp   Other   4.0    0.0     0.0   \n",
       "3    1  1500      NaN       NaN      NaN     NaN   NaN    NaN     NaN   \n",
       "4    0  1700  97800.0  112000.0  HomeImp  Office   3.0    0.0     0.0   \n",
       "\n",
       "        CLAGE  NINQ  CLNO  DEBTINC  \n",
       "0   94.366667   1.0   9.0      NaN  \n",
       "1  121.833333   0.0  14.0      NaN  \n",
       "2  149.466667   1.0  10.0      NaN  \n",
       "3         NaN   NaN   NaN      NaN  \n",
       "4   93.333333   0.0  14.0      NaN  "
      ]
     },
     "execution_count": 4,
     "metadata": {},
     "output_type": "execute_result"
    }
   ],
   "source": [
    "df.head()"
   ]
  },
  {
   "cell_type": "code",
   "execution_count": 5,
   "metadata": {},
   "outputs": [
    {
     "name": "stdout",
     "output_type": "stream",
     "text": [
      "Other      2388\n",
      "ProfExe    1276\n",
      "Office      948\n",
      "Mgr         767\n",
      "NaN         279\n",
      "Self        193\n",
      "Sales       109\n",
      "Name: JOB, dtype: int64\n",
      "DebtCon    3928\n",
      "HomeImp    1780\n",
      "NaN         252\n",
      "Name: REASON, dtype: int64\n"
     ]
    }
   ],
   "source": [
    "# Frequency counts on categorical columns JOB and REASON to view different job types  \n",
    "\n",
    "print(df.JOB.value_counts(dropna=False))\n",
    "print(df.REASON.value_counts(dropna=False))"
   ]
  },
  {
   "cell_type": "markdown",
   "metadata": {},
   "source": [
    " **CONVERTING DATA TYPES of ATTRIBUTES**\n"
   ]
  },
  {
   "cell_type": "code",
   "execution_count": 6,
   "metadata": {},
   "outputs": [
    {
     "name": "stdout",
     "output_type": "stream",
     "text": [
      "<class 'pandas.core.frame.DataFrame'>\n",
      "RangeIndex: 5960 entries, 0 to 5959\n",
      "Data columns (total 13 columns):\n",
      "BAD        5960 non-null category\n",
      "LOAN       5960 non-null int64\n",
      "MORTDUE    5442 non-null float64\n",
      "VALUE      5848 non-null float64\n",
      "REASON     5708 non-null category\n",
      "JOB        5681 non-null category\n",
      "YOJ        5960 non-null int32\n",
      "DEROG      5252 non-null float64\n",
      "DELINQ     5380 non-null float64\n",
      "CLAGE      5960 non-null int32\n",
      "NINQ       5450 non-null float64\n",
      "CLNO       5960 non-null int32\n",
      "DEBTINC    4693 non-null float64\n",
      "dtypes: category(3), float64(6), int32(3), int64(1)\n",
      "memory usage: 413.8 KB\n"
     ]
    }
   ],
   "source": [
    "\n",
    "# Converting object type to category for columns 'REASON' and 'JOB' and 'BAD'\n",
    "\n",
    "df['JOB'] =df['JOB'].astype('category')\n",
    "df['REASON']=df['REASON'].astype('category')\n",
    "df['BAD']=df['BAD'].astype('category')\n",
    "\n",
    "# Imputing values of the columns before converting to int from float\n",
    "\n",
    "df.YOJ= df.YOJ.fillna(df.YOJ.mean())\n",
    "df.CLAGE=df.CLAGE.fillna(df.CLAGE.mean())\n",
    "df.CLNO =df.CLNO.fillna(df.CLNO.mean())\n",
    "\n",
    "# Converting data type of columns from Float to Integer\n",
    "\n",
    "df.YOJ= df.YOJ.astype(int)\n",
    "df.CLNO =df.CLNO.astype(int)\n",
    "df.CLAGE=df.CLAGE.astype(int)\n",
    "\n",
    "# df['CLAGE']=pd.to_numeric(df['CLAGE'],errors='ignore',downcast='signed')\n",
    "\n",
    "df.info() # Shows the columns coverted to INT \n"
   ]
  },
  {
   "cell_type": "code",
   "execution_count": 7,
   "metadata": {},
   "outputs": [],
   "source": [
    "# Removing any duplicate values in the data if existed \n",
    "\n",
    "df=df.drop_duplicates()\n",
    "\n",
    "# There were no duplicate values in the data\n"
   ]
  },
  {
   "cell_type": "markdown",
   "metadata": {},
   "source": [
    "**HANDLING MISSING VALUES**\n"
   ]
  },
  {
   "cell_type": "code",
   "execution_count": 8,
   "metadata": {},
   "outputs": [
    {
     "name": "stdout",
     "output_type": "stream",
     "text": [
      "<class 'pandas.core.frame.DataFrame'>\n",
      "Int64Index: 3585 entries, 5 to 5959\n",
      "Data columns (total 13 columns):\n",
      "BAD        3585 non-null category\n",
      "LOAN       3585 non-null int64\n",
      "MORTDUE    3585 non-null float64\n",
      "VALUE      3585 non-null float64\n",
      "REASON     3585 non-null category\n",
      "JOB        3585 non-null category\n",
      "YOJ        3585 non-null int32\n",
      "DEROG      3585 non-null float64\n",
      "DELINQ     3585 non-null float64\n",
      "CLAGE      3585 non-null int32\n",
      "NINQ       3585 non-null float64\n",
      "CLNO       3585 non-null int32\n",
      "DEBTINC    3585 non-null float64\n",
      "dtypes: category(3), float64(6), int32(3), int64(1)\n",
      "memory usage: 277.0 KB\n"
     ]
    }
   ],
   "source": [
    "# Getting the count of the missing values\n",
    "\n",
    "df_missing=df.dropna()\n",
    "df_missing.info()"
   ]
  },
  {
   "cell_type": "markdown",
   "metadata": {},
   "source": [
    " Almost 40 % of the data wil be lost if we drop all the missing values \n"
   ]
  },
  {
   "cell_type": "code",
   "execution_count": 9,
   "metadata": {},
   "outputs": [
    {
     "data": {
      "text/plain": [
       "BAD        0\n",
       "LOAN       0\n",
       "MORTDUE    0\n",
       "VALUE      0\n",
       "REASON     0\n",
       "JOB        0\n",
       "YOJ        0\n",
       "DEROG      0\n",
       "DELINQ     0\n",
       "CLAGE      0\n",
       "NINQ       0\n",
       "CLNO       0\n",
       "DEBTINC    0\n",
       "dtype: int64"
      ]
     },
     "execution_count": 9,
     "metadata": {},
     "output_type": "execute_result"
    }
   ],
   "source": [
    "\n",
    "# Most common category is replaced for missing values of categorical columns\n",
    "\n",
    "df.JOB=df.JOB.fillna('Other')\n",
    "df.REASON=df.REASON.fillna('DebtCon')\n",
    "\n",
    "# Mean of the values are filled for missing values of other columns\n",
    "\n",
    "df.MORTDUE=df.MORTDUE.fillna(df.MORTDUE.mean())\n",
    "df.VALUE=df.VALUE.fillna(df.VALUE.mean())\n",
    "df.DEBTINC =df.DEBTINC.fillna(df.DEBTINC.mean())\n",
    "\n",
    "df.DEROG.value_counts() # since 76% of the values are 0 , it will be imputed for NA \n",
    "df.DEROG=df.DEROG.fillna(0)\n",
    "\n",
    "df.DELINQ.value_counts() # since 70% of values are 0,it will be imputed for NA \n",
    "df.DELINQ=df.DELINQ.fillna(0)\n",
    "\n",
    "df.NINQ.value_counts(dropna=False) # since 42% of values are 0,it will be imputed for NA \n",
    "\n",
    "df.NINQ=df.NINQ.fillna(0)\n",
    "\n",
    "df.isnull().sum() # Verified that there are no null values\n"
   ]
  },
  {
   "cell_type": "markdown",
   "metadata": {},
   "source": [
    "**IDENTIFYING  OUTLIERS**\n"
   ]
  },
  {
   "cell_type": "code",
   "execution_count": 10,
   "metadata": {},
   "outputs": [
    {
     "name": "stdout",
     "output_type": "stream",
     "text": [
      "count    5960.000000\n",
      "mean      179.257215\n",
      "std        83.561627\n",
      "min         0.000000\n",
      "25%       117.000000\n",
      "50%       178.000000\n",
      "75%       227.000000\n",
      "max      1168.000000\n",
      "Name: CLAGE, dtype: float64\n",
      "count    5960.000000\n",
      "mean        8.825503\n",
      "std         7.254797\n",
      "min         0.000000\n",
      "25%         3.000000\n",
      "50%         8.000000\n",
      "75%        12.000000\n",
      "max        41.000000\n",
      "Name: YOJ, dtype: float64\n",
      "count      5960.000000\n",
      "mean     101776.048741\n",
      "std       56843.931566\n",
      "min        8000.000000\n",
      "25%       66489.500000\n",
      "50%       90000.000000\n",
      "75%      119004.750000\n",
      "max      855909.000000\n",
      "Name: VALUE, dtype: float64\n",
      "count    5960.000000\n",
      "mean       33.779915\n",
      "std         7.632713\n",
      "min         0.524499\n",
      "25%        30.763159\n",
      "50%        33.779915\n",
      "75%        37.949892\n",
      "max       203.312149\n",
      "Name: DEBTINC, dtype: float64\n"
     ]
    },
    {
     "data": {
      "image/png": "[encoded data removed]",
      "text/plain": [
       "<Figure size 432x288 with 4 Axes>"
      ]
     },
     "metadata": {
      "needs_background": "light"
     },
     "output_type": "display_data"
    }
   ],
   "source": [
    "\n",
    "# Reviewing columns to find outliers  , CLNO: Number of credit lines\n",
    "\n",
    "#print (df.CLNO.describe())  \n",
    "#print (df.LOAN.describe())\n",
    "\n",
    "# BOX PLOTS TO FIND OUTLIERS\n",
    "\n",
    "f, axes = plt.subplots(1, 4)\n",
    "import seaborn as sns\n",
    "sns.boxplot(x=df.CLAGE, ax=axes[0])\n",
    "sns.boxplot(x=df.YOJ, ax=axes[1])\n",
    "sns.boxplot(x=df.VALUE, ax=axes[2])\n",
    "sns.boxplot(x=df.DEBTINC,ax=axes[3])\n",
    "\n",
    "print (df.CLAGE.describe())\n",
    "\n",
    "# We found the outlier value 1168 months( or 97 years) which is logically incorrect for the age of oldest credit line.\n",
    "\n",
    "\n",
    "print(df.YOJ.describe())\n",
    "\n",
    "# Though value 41 looks as outlier, the value is logical and hence will not be removed from data\n",
    "\n",
    "print (df.VALUE.describe())\n",
    "\n",
    "# Again 855909 is logical and  hence will not be removed from data\n",
    "\n",
    "print (df.DEBTINC.describe())\n",
    "\n",
    "# The value 203 is defintely an incorrect value for the DEBTINC(debt to income ratio )\n",
    "\n"
   ]
  },
  {
   "cell_type": "markdown",
   "metadata": {},
   "source": [
    "**HANDLING OUTLIERS**"
   ]
  },
  {
   "cell_type": "code",
   "execution_count": 11,
   "metadata": {
    "scrolled": true
   },
   "outputs": [
    {
     "name": "stdout",
     "output_type": "stream",
     "text": [
      "<class 'pandas.core.frame.DataFrame'>\n",
      "Int64Index: 5959 entries, 0 to 5959\n",
      "Data columns (total 13 columns):\n",
      "BAD        5959 non-null category\n",
      "LOAN       5959 non-null int64\n",
      "MORTDUE    5959 non-null float64\n",
      "VALUE      5959 non-null float64\n",
      "REASON     5959 non-null category\n",
      "JOB        5959 non-null category\n",
      "YOJ        5959 non-null int32\n",
      "DEROG      5959 non-null float64\n",
      "DELINQ     5959 non-null float64\n",
      "CLAGE      5959 non-null int32\n",
      "NINQ       5959 non-null float64\n",
      "CLNO       5959 non-null int32\n",
      "DEBTINC    5959 non-null float64\n",
      "dtypes: category(3), float64(6), int32(3), int64(1)\n",
      "memory usage: 460.1 KB\n"
     ]
    }
   ],
   "source": [
    "# Removing the outliers\n",
    "\n",
    "df.loc[df['DEBTINC']== 203.312149]\n",
    "df.loc[df['CLAGE']==1168.000000]\n",
    "\n",
    "# Delete these rows from dataFrame\n",
    "\n",
    "\n",
    "CLAGE_index = df[ df['CLAGE']==1168.000000 ].index\n",
    "df.drop(CLAGE_index , inplace=True)\n",
    "\n",
    "\n",
    "DEBTINC_index=df[df['DEBTINC']==203.312149].index\n",
    "df.drop(DEBTINC_index , inplace=True)\n",
    "\n",
    "\n",
    "df.info()"
   ]
  },
  {
   "cell_type": "markdown",
   "metadata": {},
   "source": [
    "#   Data storytelling \n"
   ]
  },
  {
   "cell_type": "code",
   "execution_count": 12,
   "metadata": {},
   "outputs": [
    {
     "data": {
      "image/png": "[encoded data removed]",
      "text/plain": [
       "<Figure size 432x288 with 1 Axes>"
      ]
     },
     "metadata": {
      "needs_background": "light"
     },
     "output_type": "display_data"
    }
   ],
   "source": [
    "\n",
    "#Histogram for LOANS,DEBTINC,CLNO\n",
    "\n",
    "plt.hist(df.LOAN.dropna(),bins=20)\n",
    "plt.xlabel('Loan request')\n",
    "plt.ylabel('Number of loans')\n",
    "\n",
    "plt.show()\n",
    "\n",
    "#Inference: Most of the loans were provided less than or equalto 20,000 and very less requests for laons more than 50,000\n"
   ]
  },
  {
   "cell_type": "code",
   "execution_count": 13,
   "metadata": {},
   "outputs": [
    {
     "data": {
      "image/png": "[encoded data removed]",
      "text/plain": [
       "<Figure size 432x288 with 1 Axes>"
      ]
     },
     "metadata": {
      "needs_background": "light"
     },
     "output_type": "display_data"
    }
   ],
   "source": [
    "plt.hist(df.DEBTINC.dropna(),bins=50)\n",
    "\n",
    "plt.xlabel('Debt to income ratio')\n",
    "plt.ylabel('No of Applicants')\n",
    "\n",
    "plt.show()\n",
    "\n",
    "# As per the consumer financial protection bureau , the debt to income ratio ideally should be less than 43 for a good applicant.\n",
    "# We can infer that most of the applicants here fall within the criteria and are less than 43%\n"
   ]
  },
  {
   "cell_type": "code",
   "execution_count": 14,
   "metadata": {},
   "outputs": [
    {
     "data": {
      "image/png": "[encoded data removed]",
      "text/plain": [
       "<Figure size 432x288 with 1 Axes>"
      ]
     },
     "metadata": {
      "needs_background": "light"
     },
     "output_type": "display_data"
    }
   ],
   "source": [
    "plt.hist(df.CLNO.dropna(),bins=50)\n",
    "\n",
    "plt.xlabel('Number of credit lines')\n",
    "plt.ylabel('No of Applicants')\n",
    "\n",
    "plt.show()\n",
    "\n",
    "# Most of the applicants have less than or equal to 20 credit lines."
   ]
  },
  {
   "cell_type": "markdown",
   "metadata": {},
   "source": [
    "**BI VARIATE VISUALIZATION**\n"
   ]
  },
  {
   "cell_type": "code",
   "execution_count": 15,
   "metadata": {},
   "outputs": [
    {
     "data": {
      "image/png": "[encoded data removed]",
      "text/plain": [
       "<Figure size 432x288 with 1 Axes>"
      ]
     },
     "metadata": {
      "needs_background": "light"
     },
     "output_type": "display_data"
    }
   ],
   "source": [
    "\n",
    "# Scatter Plot \n",
    "\n",
    "plt.scatter(df.MORTDUE,df.VALUE,c=\"Blue\",alpha=0.8)\n",
    "plt.xlabel('Amount due in mortgage')\n",
    "plt.ylabel('Value of Current Property')\n",
    "\n",
    "plt.show()"
   ]
  },
  {
   "cell_type": "markdown",
   "metadata": {},
   "source": [
    "Inferences from the plot,we can clearly identify a potential BAD LOAN  by following reason \n",
    "\n",
    "1. In the bottom right corner, the amount due is GREATER THAN value of property which indicates applicant has more probablity to become delinquent. \n",
    "\n",
    "\n",
    "2. Whereas, at top of the curve ,applicants have high value of current property and less amount due in mortage which indicates they have less probability to become delinquent.\n"
   ]
  },
  {
   "cell_type": "code",
   "execution_count": 16,
   "metadata": {},
   "outputs": [
    {
     "data": {
      "image/png": "[encoded data removed]",
      "text/plain": [
       "<Figure size 432x288 with 1 Axes>"
      ]
     },
     "metadata": {
      "needs_background": "light"
     },
     "output_type": "display_data"
    }
   ],
   "source": [
    "plt.scatter(df.DEBTINC,df.CLNO,c=\"Red\",alpha=0.9)\n",
    "plt.ylabel('Number of credit lines')\n",
    "plt.xlabel('Debt to income ratio')\n",
    "\n",
    "plt.show()\n"
   ]
  },
  {
   "cell_type": "markdown",
   "metadata": {},
   "source": [
    "From this plot, we can infer that applicants who have more credit lines (more than 40) are having less than 43(favorable)\n",
    "in ratio.\n"
   ]
  },
  {
   "cell_type": "markdown",
   "metadata": {},
   "source": [
    "**Co-relation between the variables**\n"
   ]
  },
  {
   "cell_type": "code",
   "execution_count": 17,
   "metadata": {},
   "outputs": [
    {
     "data": {
      "text/html": [
       "<div>\n",
       "<style scoped>\n",
       "    .dataframe tbody tr th:only-of-type {\n",
       "        vertical-align: middle;\n",
       "    }\n",
       "\n",
       "    .dataframe tbody tr th {\n",
       "        vertical-align: top;\n",
       "    }\n",
       "\n",
       "    .dataframe thead th {\n",
       "        text-align: right;\n",
       "    }\n",
       "</style>\n",
       "<table border=\"1\" class=\"dataframe\">\n",
       "  <thead>\n",
       "    <tr style=\"text-align: right;\">\n",
       "      <th></th>\n",
       "      <th>CLNO</th>\n",
       "      <th>DEBTINC</th>\n",
       "      <th>YOJ</th>\n",
       "      <th>DELINQ</th>\n",
       "      <th>DEROG</th>\n",
       "      <th>MORTDUE</th>\n",
       "      <th>LOAN</th>\n",
       "      <th>CLAGE</th>\n",
       "      <th>NINQ</th>\n",
       "    </tr>\n",
       "  </thead>\n",
       "  <tbody>\n",
       "    <tr>\n",
       "      <td>CLNO</td>\n",
       "      <td>1.000000</td>\n",
       "      <td>0.158697</td>\n",
       "      <td>0.027675</td>\n",
       "      <td>0.159720</td>\n",
       "      <td>0.050957</td>\n",
       "      <td>0.305740</td>\n",
       "      <td>0.072432</td>\n",
       "      <td>0.238837</td>\n",
       "      <td>0.086080</td>\n",
       "    </tr>\n",
       "    <tr>\n",
       "      <td>DEBTINC</td>\n",
       "      <td>0.158697</td>\n",
       "      <td>1.000000</td>\n",
       "      <td>-0.046630</td>\n",
       "      <td>0.035408</td>\n",
       "      <td>0.010785</td>\n",
       "      <td>0.128261</td>\n",
       "      <td>0.074819</td>\n",
       "      <td>-0.040123</td>\n",
       "      <td>0.127377</td>\n",
       "    </tr>\n",
       "    <tr>\n",
       "      <td>YOJ</td>\n",
       "      <td>0.027675</td>\n",
       "      <td>-0.046630</td>\n",
       "      <td>1.000000</td>\n",
       "      <td>0.048003</td>\n",
       "      <td>-0.058205</td>\n",
       "      <td>-0.080399</td>\n",
       "      <td>0.099395</td>\n",
       "      <td>0.192495</td>\n",
       "      <td>-0.053393</td>\n",
       "    </tr>\n",
       "    <tr>\n",
       "      <td>DELINQ</td>\n",
       "      <td>0.159720</td>\n",
       "      <td>0.035408</td>\n",
       "      <td>0.048003</td>\n",
       "      <td>1.000000</td>\n",
       "      <td>0.171271</td>\n",
       "      <td>0.000575</td>\n",
       "      <td>-0.028866</td>\n",
       "      <td>0.025923</td>\n",
       "      <td>0.068625</td>\n",
       "    </tr>\n",
       "    <tr>\n",
       "      <td>DEROG</td>\n",
       "      <td>0.050957</td>\n",
       "      <td>0.010785</td>\n",
       "      <td>-0.058205</td>\n",
       "      <td>0.171271</td>\n",
       "      <td>1.000000</td>\n",
       "      <td>-0.046452</td>\n",
       "      <td>0.006999</td>\n",
       "      <td>-0.080571</td>\n",
       "      <td>0.143571</td>\n",
       "    </tr>\n",
       "    <tr>\n",
       "      <td>MORTDUE</td>\n",
       "      <td>0.305740</td>\n",
       "      <td>0.128261</td>\n",
       "      <td>-0.080399</td>\n",
       "      <td>0.000575</td>\n",
       "      <td>-0.046452</td>\n",
       "      <td>1.000000</td>\n",
       "      <td>0.216100</td>\n",
       "      <td>0.131208</td>\n",
       "      <td>0.032586</td>\n",
       "    </tr>\n",
       "    <tr>\n",
       "      <td>LOAN</td>\n",
       "      <td>0.072432</td>\n",
       "      <td>0.074819</td>\n",
       "      <td>0.099395</td>\n",
       "      <td>-0.028866</td>\n",
       "      <td>0.006999</td>\n",
       "      <td>0.216100</td>\n",
       "      <td>1.000000</td>\n",
       "      <td>0.087830</td>\n",
       "      <td>0.055628</td>\n",
       "    </tr>\n",
       "    <tr>\n",
       "      <td>CLAGE</td>\n",
       "      <td>0.238837</td>\n",
       "      <td>-0.040123</td>\n",
       "      <td>0.192495</td>\n",
       "      <td>0.025923</td>\n",
       "      <td>-0.080571</td>\n",
       "      <td>0.131208</td>\n",
       "      <td>0.087830</td>\n",
       "      <td>1.000000</td>\n",
       "      <td>-0.106131</td>\n",
       "    </tr>\n",
       "    <tr>\n",
       "      <td>NINQ</td>\n",
       "      <td>0.086080</td>\n",
       "      <td>0.127377</td>\n",
       "      <td>-0.053393</td>\n",
       "      <td>0.068625</td>\n",
       "      <td>0.143571</td>\n",
       "      <td>0.032586</td>\n",
       "      <td>0.055628</td>\n",
       "      <td>-0.106131</td>\n",
       "      <td>1.000000</td>\n",
       "    </tr>\n",
       "  </tbody>\n",
       "</table>\n",
       "</div>"
      ],
      "text/plain": [
       "             CLNO   DEBTINC       YOJ    DELINQ     DEROG   MORTDUE      LOAN  \\\n",
       "CLNO     1.000000  0.158697  0.027675  0.159720  0.050957  0.305740  0.072432   \n",
       "DEBTINC  0.158697  1.000000 -0.046630  0.035408  0.010785  0.128261  0.074819   \n",
       "YOJ      0.027675 -0.046630  1.000000  0.048003 -0.058205 -0.080399  0.099395   \n",
       "DELINQ   0.159720  0.035408  0.048003  1.000000  0.171271  0.000575 -0.028866   \n",
       "DEROG    0.050957  0.010785 -0.058205  0.171271  1.000000 -0.046452  0.006999   \n",
       "MORTDUE  0.305740  0.128261 -0.080399  0.000575 -0.046452  1.000000  0.216100   \n",
       "LOAN     0.072432  0.074819  0.099395 -0.028866  0.006999  0.216100  1.000000   \n",
       "CLAGE    0.238837 -0.040123  0.192495  0.025923 -0.080571  0.131208  0.087830   \n",
       "NINQ     0.086080  0.127377 -0.053393  0.068625  0.143571  0.032586  0.055628   \n",
       "\n",
       "            CLAGE      NINQ  \n",
       "CLNO     0.238837  0.086080  \n",
       "DEBTINC -0.040123  0.127377  \n",
       "YOJ      0.192495 -0.053393  \n",
       "DELINQ   0.025923  0.068625  \n",
       "DEROG   -0.080571  0.143571  \n",
       "MORTDUE  0.131208  0.032586  \n",
       "LOAN     0.087830  0.055628  \n",
       "CLAGE    1.000000 -0.106131  \n",
       "NINQ    -0.106131  1.000000  "
      ]
     },
     "execution_count": 17,
     "metadata": {},
     "output_type": "execute_result"
    }
   ],
   "source": [
    "\n",
    "subset=df[['CLNO','DEBTINC','YOJ','DELINQ','DEROG','MORTDUE','LOAN','CLAGE','NINQ']]\n",
    "\n",
    "subset.corr() "
   ]
  },
  {
   "cell_type": "markdown",
   "metadata": {},
   "source": [
    "**Findings from the  Correlation matrix**\n",
    "\n",
    "\n",
    "1.  The pearson Coefficient of 0.305 between MORTDUE and CLNO is a moderate positive corelation.\n",
    "   This can be translated as applicants who have more credit lines tend to have more amount due on their existing mortgage.\n",
    "\n",
    "2.  The pearson Coefficient of 0.216 between MORTDUE and LOAN is a moderate positive corelation.\n",
    "   This can be translated as applicants who have requested more loans requested for more LOAN amount.\n",
    "\n",
    "From these two findings, we can consider applicants with high MORTDUE are potentially risky applicants.\n",
    "\n",
    "3.  With coefficant of 0.238 ,we can infer the applicants who have more credit lines have age of oldest credit line as high.\n",
    "\n",
    " The other variables do not have a significant corelation between them  \n"
   ]
  },
  {
   "cell_type": "code",
   "execution_count": 40,
   "metadata": {},
   "outputs": [
    {
     "data": {
      "image/png": "[encoded data removed]",
      "text/plain": [
       "<Figure size 1368x936 with 2 Axes>"
      ]
     },
     "metadata": {
      "needs_background": "light"
     },
     "output_type": "display_data"
    }
   ],
   "source": [
    "# Plotting the corelation matrix\n",
    "\n",
    "\n",
    "f = plt.figure(figsize=(19, 13))\n",
    "plt.matshow(subset.corr(),fignum=f.number)\n",
    "plt.xticks(range(subset.shape[1]), subset.columns, fontsize=14 )\n",
    "plt.yticks(range(subset.shape[1]), subset.columns, fontsize=14 )\n",
    "cb = plt.colorbar()\n",
    "cb.ax.tick_params(labelsize=14, colors=\"red\")\n",
    "plt.title('Correlation Matrix', fontsize=20);\n"
   ]
  },
  {
   "cell_type": "markdown",
   "metadata": {},
   "source": [
    "**ATTRIBUTE RELVANCE ANALYSIS** "
   ]
  },
  {
   "cell_type": "markdown",
   "metadata": {},
   "source": [
    "***Calculating WOE and IV***"
   ]
  },
  {
   "cell_type": "code",
   "execution_count": 19,
   "metadata": {},
   "outputs": [],
   "source": [
    "def calculate_woe_iv(dataset, feature, target):\n",
    "    lst = []\n",
    "    for i in range(dataset[feature].nunique()):\n",
    "        val = list(dataset[feature].unique())[i]\n",
    "        lst.append({\n",
    "            'Value': val,\n",
    "            'All': dataset[dataset[feature] == val].count()[feature],\n",
    "            'Good': dataset[(dataset[feature] == val) & (dataset[target] == 0)].count()[feature],\n",
    "            'Bad': dataset[(dataset[feature] == val) & (dataset[target] == 1)].count()[feature]\n",
    "        })\n",
    "        \n",
    "    dset = pd.DataFrame(lst)\n",
    "    dset['Distr_Good'] = dset['Good'] / dset['Good'].sum()\n",
    "    dset['Distr_Bad'] = dset['Bad'] / dset['Bad'].sum()\n",
    "    dset['WoE'] = np.log(dset['Distr_Good'] / dset['Distr_Bad'])\n",
    "    dset = dset.replace({'WoE': {np.inf: 0, -np.inf: 0}})\n",
    "    dset['IV'] = (dset['Distr_Good'] - dset['Distr_Bad']) * dset['WoE']\n",
    "    iv = dset['IV'].sum()\n",
    "    \n",
    "    dset = dset.sort_values(by='WoE')\n",
    "    \n",
    "    return dset, iv"
   ]
  },
  {
   "cell_type": "code",
   "execution_count": 20,
   "metadata": {},
   "outputs": [
    {
     "name": "stdout",
     "output_type": "stream",
     "text": [
      "WoE and IV for column: LOAN\n"
     ]
    },
    {
     "name": "stderr",
     "output_type": "stream",
     "text": [
      "C:\\Users\\velth\\Anaconda3\\lib\\site-packages\\pandas\\core\\series.py:853: RuntimeWarning: divide by zero encountered in log\n",
      "  result = getattr(ufunc, method)(*inputs, **kwargs)\n"
     ]
    },
    {
     "name": "stdout",
     "output_type": "stream",
     "text": [
      "     Value  All  Good  Bad  Distr_Good  Distr_Bad       WoE        IV\n",
      "9     2400    6     1    5    0.000210   0.004209 -2.999723  0.011996\n",
      "5     2000    6     1    5    0.000210   0.004209 -2.999723  0.011996\n",
      "392  42000    5     1    4    0.000210   0.003367 -2.776579  0.008767\n",
      "13    3000   12     3    9    0.000629   0.007576 -2.488897  0.017290\n",
      "442  50000   16     5   11    0.001048   0.009259 -2.178742  0.017890\n",
      "..     ...  ...   ...  ...         ...        ...       ...       ...\n",
      "197  21500   23    22    1    0.004611   0.000842  1.700758  0.006411\n",
      "158  17600   24    23    1    0.004821   0.000842  1.745210  0.006944\n",
      "80    9800   26    25    1    0.005240   0.000842  1.828591  0.008043\n",
      "109  12700   27    26    1    0.005450   0.000842  1.867812  0.008607\n",
      "76    9400   28    27    1    0.005659   0.000842  1.905552  0.009180\n",
      "\n",
      "[540 rows x 8 columns]\n",
      "IV score: 0.71\n",
      "\n",
      "\n",
      "WoE and IV for column: MORTDUE\n",
      "         Value  All  Good  Bad  Distr_Good  Distr_Bad       WoE        IV\n",
      "20     50000.0    7     1    6    0.000210   0.005051 -3.182044  0.015404\n",
      "225    70000.0    7     1    6    0.000210   0.005051 -3.182044  0.015404\n",
      "47     54000.0    6     1    5    0.000210   0.004209 -2.999723  0.011996\n",
      "42     58000.0    6     1    5    0.000210   0.004209 -2.999723  0.011996\n",
      "386    46000.0    5     1    4    0.000210   0.003367 -2.776579  0.008767\n",
      "...        ...  ...   ...  ...         ...        ...       ...       ...\n",
      "1739   66014.0    1     1    0    0.000210   0.000000  0.000000  0.000000\n",
      "1738  110094.0    1     1    0    0.000210   0.000000  0.000000  0.000000\n",
      "1745   80277.0    1     1    0    0.000210   0.000000  0.000000  0.000000\n",
      "5052   48811.0    1     1    0    0.000210   0.000000  0.000000  0.000000\n",
      "90     44000.0    6     5    1    0.001048   0.000842  0.219153  0.000045\n",
      "\n",
      "[5053 rows x 8 columns]\n",
      "IV score: 0.29\n",
      "\n",
      "\n",
      "WoE and IV for column: VALUE\n",
      "              Value  All  Good  Bad  Distr_Good  Distr_Bad       WoE        IV\n",
      "3     101776.048741  112     7  105    0.001467   0.088384 -4.098335  0.356214\n",
      "11     55000.000000    7     1    6    0.000210   0.005051 -3.182044  0.015404\n",
      "3432  165000.000000    6     1    5    0.000210   0.004209 -2.999723  0.011996\n",
      "502    67000.000000    6     1    5    0.000210   0.004209 -2.999723  0.011996\n",
      "267    75000.000000    6     1    5    0.000210   0.004209 -2.999723  0.011996\n",
      "...             ...  ...   ...  ...         ...        ...       ...       ...\n",
      "1837   72716.000000    1     1    0    0.000210   0.000000  0.000000  0.000000\n",
      "1836  112608.000000    1     1    0    0.000210   0.000000  0.000000  0.000000\n",
      "1844   84472.000000    1     1    0    0.000210   0.000000  0.000000  0.000000\n",
      "5380   88934.000000    1     1    0    0.000210   0.000000  0.000000  0.000000\n",
      "91     59000.000000    6     5    1    0.001048   0.000842  0.219153  0.000045\n",
      "\n",
      "[5381 rows x 8 columns]\n",
      "IV score: 0.69\n",
      "\n",
      "\n",
      "WoE and IV for column: REASON\n",
      "     Value   All  Good  Bad  Distr_Good  Distr_Bad       WoE        IV\n",
      "0  HomeImp  1780  1384  396    0.290086   0.333333 -0.138966  0.006010\n",
      "1  DebtCon  4179  3387  792    0.709914   0.666667  0.062854  0.002718\n",
      "IV score: 0.01\n",
      "\n",
      "\n",
      "WoE and IV for column: JOB\n",
      "     Value   All  Good  Bad  Distr_Good  Distr_Bad       WoE        IV\n",
      "2    Sales   109    71   38    0.014882   0.031987 -0.765191  0.013089\n",
      "5     Self   193   135   58    0.028296   0.048822 -0.545453  0.011196\n",
      "3      Mgr   767   588  179    0.123245   0.150673 -0.200944  0.005512\n",
      "0    Other  2666  2090  576    0.438063   0.484848 -0.101473  0.004747\n",
      "4  ProfExe  1276  1064  212    0.223014   0.178451  0.222920  0.009934\n",
      "1   Office   948   823  125    0.172501   0.105219  0.494358  0.033261\n",
      "IV score: 0.08\n",
      "\n",
      "\n",
      "WoE and IV for column: YOJ\n",
      "    Value  All  Good  Bad  Distr_Good  Distr_Bad       WoE        IV\n",
      "36     34    2     1    1    0.000210   0.000842 -1.390285  0.000879\n",
      "10      2  365   265  100    0.055544   0.084175 -0.415725  0.011903\n",
      "4       3  330   244   86    0.051142   0.072391 -0.347464  0.007383\n",
      "12     12  152   114   38    0.023894   0.031987 -0.291672  0.002360\n",
      "11     19   92    69   23    0.014462   0.019360 -0.291672  0.001429\n",
      "9      18   83    63   20    0.013205   0.016835 -0.242882  0.000882\n",
      "6       5  341   259   82    0.054286   0.069024 -0.240176  0.003540\n",
      "20     13  163   125   38    0.026200   0.031987 -0.199557  0.001155\n",
      "16      1  390   300   90    0.062880   0.075758 -0.186312  0.002399\n",
      "21      0  486   377  109    0.079019   0.091751 -0.149387  0.001902\n",
      "2       4  335   260   75    0.054496   0.063131 -0.147091  0.001270\n",
      "25     15  135   105   30    0.022008   0.025253 -0.137522  0.000446\n",
      "19     20   82    64   18    0.013414   0.015152 -0.121773  0.000212\n",
      "0      10  287   225   62    0.047160   0.052189 -0.101319  0.000509\n",
      "33     33    2     0    2    0.000000   0.001684  0.000000 -0.000000\n",
      "34     36    5     5    0    0.001048   0.000000  0.000000  0.000000\n",
      "35     35    5     5    0    0.001048   0.000000  0.000000  0.000000\n",
      "32     41    3     0    3    0.000000   0.002525  0.000000 -0.000000\n",
      "37     32    1     1    0    0.000210   0.000000  0.000000  0.000000\n",
      "28     25   56    45   11    0.009432   0.009259  0.018483  0.000003\n",
      "22     14  135   109   26    0.022846   0.021886  0.042967  0.000041\n",
      "7      11  177   145   32    0.030392   0.026936  0.120713  0.000417\n",
      "5       9  294   242   52    0.050723   0.043771  0.147409  0.001025\n",
      "23     17   83    69   14    0.014462   0.011785  0.204764  0.000548\n",
      "26     31   12    10    2    0.002096   0.001684  0.219153  0.000090\n",
      "31     30   30    25    5    0.005240   0.004209  0.219153  0.000226\n",
      "8      16  121   101   20    0.021170   0.016835  0.229104  0.000993\n",
      "1       7  251   211   40    0.044226   0.033670  0.272694  0.002878\n",
      "3       8  777   661  116    0.138545   0.097643  0.349879  0.014311\n",
      "13     22   68    58   10    0.012157   0.008418  0.367573  0.001374\n",
      "14     26   48    41    7    0.008594   0.005892  0.377377  0.001019\n",
      "15      6  323   276   47    0.057850   0.039562  0.379969  0.006949\n",
      "17     21   69    60    9    0.012576   0.007576  0.506835  0.002534\n",
      "18     28   36    32    4    0.006707   0.003367  0.689157  0.002302\n",
      "24     24   76    69    7    0.014462   0.005892  0.897912  0.007695\n",
      "27     23   77    71    6    0.014882   0.005051  1.080636  0.010624\n",
      "30     27   37    35    2    0.007336   0.001684  1.471916  0.008320\n",
      "29     29   30    29    1    0.006078   0.000842  1.977011  0.010353\n",
      "IV score: 0.11\n",
      "\n",
      "\n",
      "WoE and IV for column: DEROG\n",
      "    Value   All  Good  Bad  Distr_Good  Distr_Bad       WoE        IV\n",
      "4     4.0    23     5   18    0.001048   0.015152 -2.671219  0.037674\n",
      "1     3.0    58    15   43    0.003144   0.036195 -2.443435  0.080759\n",
      "6     6.0    15     5   10    0.001048   0.008418 -2.083432  0.015354\n",
      "2     2.0   160    78   82    0.016349   0.069024 -1.440295  0.075867\n",
      "5     5.0    15     8    7    0.001677   0.005892 -1.256753  0.005298\n",
      "3     1.0   435   266  169    0.055754   0.142256 -0.936687  0.081026\n",
      "7     7.0     8     0    8    0.000000   0.006734  0.000000 -0.000000\n",
      "8     8.0     6     0    6    0.000000   0.005051  0.000000 -0.000000\n",
      "9     9.0     3     0    3    0.000000   0.002525  0.000000 -0.000000\n",
      "10   10.0     2     0    2    0.000000   0.001684  0.000000 -0.000000\n",
      "0     0.0  5234  4394  840    0.920981   0.707071  0.264309  0.056538\n",
      "IV score: 0.35\n",
      "\n",
      "\n",
      "WoE and IV for column: DELINQ\n",
      "    Value   All  Good  Bad  Distr_Good  Distr_Bad       WoE        IV\n",
      "7     5.0    38     7   31    0.001467   0.026094 -2.878362  0.070886\n",
      "5     4.0    78    32   46    0.006707   0.038721 -1.753190  0.056125\n",
      "6     3.0   129    58   71    0.012157   0.059764 -1.592522  0.075816\n",
      "1     2.0   250   138  112    0.028925   0.094276 -1.181530  0.077215\n",
      "2     1.0   654   432  222    0.090547   0.186869 -0.724536  0.069789\n",
      "3     6.0    27     0   27    0.000000   0.022727  0.000000 -0.000000\n",
      "4    15.0     1     0    1    0.000000   0.000842  0.000000 -0.000000\n",
      "8     7.0    13     0   13    0.000000   0.010943  0.000000 -0.000000\n",
      "9     8.0     5     0    5    0.000000   0.004209  0.000000 -0.000000\n",
      "10   10.0     2     0    2    0.000000   0.001684  0.000000 -0.000000\n",
      "11   12.0     1     0    1    0.000000   0.000842  0.000000 -0.000000\n",
      "12   11.0     2     0    2    0.000000   0.001684  0.000000 -0.000000\n",
      "13   13.0     1     0    1    0.000000   0.000842  0.000000 -0.000000\n",
      "0     0.0  4758  4104  654    0.860197   0.550505  0.446325  0.138223\n",
      "IV score: 0.49\n",
      "\n",
      "\n",
      "WoE and IV for column: CLAGE\n"
     ]
    },
    {
     "name": "stdout",
     "output_type": "stream",
     "text": [
      "     Value  All  Good  Bad  Distr_Good  Distr_Bad       WoE        IV\n",
      "176     41    4     1    3    0.000210   0.002525 -2.488897  0.005763\n",
      "327     11    3     1    2    0.000210   0.001684 -2.083432  0.003071\n",
      "34       9    6     2    4    0.000419   0.003367 -2.083432  0.006142\n",
      "342     34    3     1    2    0.000210   0.001684 -2.083432  0.003071\n",
      "289     39    3     1    2    0.000210   0.001684 -2.083432  0.003071\n",
      "..     ...  ...   ...  ...         ...        ...       ...       ...\n",
      "234    243   22    21    1    0.004402   0.000842  1.654238  0.005889\n",
      "96     193   23    22    1    0.004611   0.000842  1.700758  0.006411\n",
      "38     211   24    23    1    0.004821   0.000842  1.745210  0.006944\n",
      "301    244   24    23    1    0.004821   0.000842  1.745210  0.006944\n",
      "131    175   29    28    1    0.005869   0.000842  1.941920  0.009762\n",
      "\n",
      "[417 rows x 8 columns]\n",
      "IV score: 0.39\n",
      "\n",
      "\n",
      "WoE and IV for column: NINQ\n",
      "    Value   All  Good  Bad  Distr_Good  Distr_Bad       WoE        IV\n",
      "8     9.0    11     5    6    0.001048   0.005051 -1.572606  0.006294\n",
      "10    6.0    56    27   29    0.005659   0.024411 -1.461744  0.027410\n",
      "9     8.0    22    11   11    0.002306   0.009259 -1.390285  0.009668\n",
      "4     5.0    75    39   36    0.008174   0.030303 -1.310242  0.028994\n",
      "7     4.0   156    95   61    0.019912   0.051347 -0.947282  0.029778\n",
      "11    7.0    44    29   15    0.006078   0.012626 -0.731039  0.004787\n",
      "6    10.0    28    19    9    0.003982   0.007576 -0.643070  0.002311\n",
      "12   11.0    10     7    3    0.001467   0.002525 -0.542987  0.000575\n",
      "3     3.0   392   285  107    0.059736   0.090067 -0.410624  0.012455\n",
      "2     2.0   780   599  181    0.125550   0.152357 -0.193520  0.005188\n",
      "5    14.0     1     0    1    0.000000   0.000842  0.000000 -0.000000\n",
      "13   12.0     2     0    2    0.000000   0.001684  0.000000 -0.000000\n",
      "14   17.0     1     0    1    0.000000   0.000842  0.000000 -0.000000\n",
      "15   13.0     2     0    2    0.000000   0.001684  0.000000 -0.000000\n",
      "0     1.0  1339  1085  254    0.227416   0.213805  0.061716  0.000840\n",
      "1     0.0  3040  2570  470    0.538671   0.395623  0.308644  0.044151\n",
      "IV score: 0.17\n",
      "\n",
      "\n",
      "WoE and IV for column: CLNO\n",
      "    Value  All  Good  Bad  Distr_Good  Distr_Bad       WoE        IV\n",
      "46      1    6     1    5    0.000210   0.004209 -2.999723  0.011996\n",
      "48     39   20    10   10    0.002096   0.008418 -1.390285  0.008789\n",
      "42     40   20    10   10    0.002096   0.008418 -1.390285  0.008789\n",
      "15     45   12     6    6    0.001258   0.005051 -1.390285  0.005273\n",
      "12      0   61    37   24    0.007755   0.020202 -0.957421  0.011917\n",
      "..    ...  ...   ...  ...         ...        ...       ...       ...\n",
      "8      25  221   192   29    0.040243   0.024411  0.499915  0.007915\n",
      "9      24  264   235   29    0.049256   0.024411  0.702005  0.017441\n",
      "36     50   32    29    3    0.006078   0.002525  0.878399  0.003121\n",
      "37     47   24    22    2    0.004611   0.001684  1.007611  0.002950\n",
      "50     55   14    13    1    0.002725   0.000842  1.174665  0.002212\n",
      "\n",
      "[62 rows x 8 columns]\n",
      "IV score: 0.16\n",
      "\n",
      "\n",
      "WoE and IV for column: DEBTINC\n",
      "          Value   All  Good  Bad  Distr_Good  Distr_Bad       WoE        IV\n",
      "0     33.779915  1267   481  786    0.100817   0.661616 -1.881374  1.055072\n",
      "3132  41.395462     1     1    0    0.000210   0.000000  0.000000  0.000000\n",
      "3131  20.688715     1     1    0    0.000210   0.000000  0.000000  0.000000\n",
      "3130  35.982084     1     1    0    0.000210   0.000000  0.000000  0.000000\n",
      "3129  37.827219     1     1    0    0.000210   0.000000  0.000000  0.000000\n",
      "...         ...   ...   ...  ...         ...        ...       ...       ...\n",
      "1560  36.158718     1     1    0    0.000210   0.000000  0.000000  0.000000\n",
      "1559  36.229864     1     1    0    0.000210   0.000000  0.000000  0.000000\n",
      "1558  19.089301     1     0    1    0.000000   0.000842  0.000000 -0.000000\n",
      "1574  29.966202     1     1    0    0.000210   0.000000  0.000000  0.000000\n",
      "4692  34.571519     1     1    0    0.000210   0.000000  0.000000  0.000000\n",
      "\n",
      "[4693 rows x 8 columns]\n",
      "IV score: 1.06\n",
      "\n",
      "\n"
     ]
    }
   ],
   "source": [
    "for col in df.columns:\n",
    "    if col == 'BAD': continue\n",
    "    else:\n",
    "        print('WoE and IV for column: {}'.format(col))\n",
    "        dset, iv = calculate_woe_iv(df, col, 'BAD')\n",
    "        print(dset)\n",
    "        print('IV score: {:.2f}'.format(iv))\n",
    "        print('\\n')\n"
   ]
  },
  {
   "cell_type": "markdown",
   "metadata": {},
   "source": [
    "The good predictor cut off value for the IV score is 0.10 or more.\n",
    "The attribute REASON has an IV score: 0.01 and hence it is taken removed from the data."
   ]
  },
  {
   "cell_type": "code",
   "execution_count": 21,
   "metadata": {},
   "outputs": [
    {
     "data": {
      "text/html": [
       "<div>\n",
       "<style scoped>\n",
       "    .dataframe tbody tr th:only-of-type {\n",
       "        vertical-align: middle;\n",
       "    }\n",
       "\n",
       "    .dataframe tbody tr th {\n",
       "        vertical-align: top;\n",
       "    }\n",
       "\n",
       "    .dataframe thead th {\n",
       "        text-align: right;\n",
       "    }\n",
       "</style>\n",
       "<table border=\"1\" class=\"dataframe\">\n",
       "  <thead>\n",
       "    <tr style=\"text-align: right;\">\n",
       "      <th></th>\n",
       "      <th>BAD</th>\n",
       "      <th>LOAN</th>\n",
       "      <th>MORTDUE</th>\n",
       "      <th>VALUE</th>\n",
       "      <th>JOB</th>\n",
       "      <th>YOJ</th>\n",
       "      <th>DEROG</th>\n",
       "      <th>DELINQ</th>\n",
       "      <th>CLAGE</th>\n",
       "      <th>NINQ</th>\n",
       "      <th>CLNO</th>\n",
       "      <th>DEBTINC</th>\n",
       "    </tr>\n",
       "  </thead>\n",
       "  <tbody>\n",
       "    <tr>\n",
       "      <td>0</td>\n",
       "      <td>1</td>\n",
       "      <td>1100</td>\n",
       "      <td>25860.0000</td>\n",
       "      <td>39025.000000</td>\n",
       "      <td>Other</td>\n",
       "      <td>10</td>\n",
       "      <td>0.0</td>\n",
       "      <td>0.0</td>\n",
       "      <td>94</td>\n",
       "      <td>1.0</td>\n",
       "      <td>9</td>\n",
       "      <td>33.779915</td>\n",
       "    </tr>\n",
       "    <tr>\n",
       "      <td>1</td>\n",
       "      <td>1</td>\n",
       "      <td>1300</td>\n",
       "      <td>70053.0000</td>\n",
       "      <td>68400.000000</td>\n",
       "      <td>Other</td>\n",
       "      <td>7</td>\n",
       "      <td>0.0</td>\n",
       "      <td>2.0</td>\n",
       "      <td>121</td>\n",
       "      <td>0.0</td>\n",
       "      <td>14</td>\n",
       "      <td>33.779915</td>\n",
       "    </tr>\n",
       "    <tr>\n",
       "      <td>2</td>\n",
       "      <td>1</td>\n",
       "      <td>1500</td>\n",
       "      <td>13500.0000</td>\n",
       "      <td>16700.000000</td>\n",
       "      <td>Other</td>\n",
       "      <td>4</td>\n",
       "      <td>0.0</td>\n",
       "      <td>0.0</td>\n",
       "      <td>149</td>\n",
       "      <td>1.0</td>\n",
       "      <td>10</td>\n",
       "      <td>33.779915</td>\n",
       "    </tr>\n",
       "    <tr>\n",
       "      <td>3</td>\n",
       "      <td>1</td>\n",
       "      <td>1500</td>\n",
       "      <td>73760.8172</td>\n",
       "      <td>101776.048741</td>\n",
       "      <td>Other</td>\n",
       "      <td>8</td>\n",
       "      <td>0.0</td>\n",
       "      <td>0.0</td>\n",
       "      <td>179</td>\n",
       "      <td>0.0</td>\n",
       "      <td>21</td>\n",
       "      <td>33.779915</td>\n",
       "    </tr>\n",
       "    <tr>\n",
       "      <td>4</td>\n",
       "      <td>0</td>\n",
       "      <td>1700</td>\n",
       "      <td>97800.0000</td>\n",
       "      <td>112000.000000</td>\n",
       "      <td>Office</td>\n",
       "      <td>3</td>\n",
       "      <td>0.0</td>\n",
       "      <td>0.0</td>\n",
       "      <td>93</td>\n",
       "      <td>0.0</td>\n",
       "      <td>14</td>\n",
       "      <td>33.779915</td>\n",
       "    </tr>\n",
       "  </tbody>\n",
       "</table>\n",
       "</div>"
      ],
      "text/plain": [
       "  BAD  LOAN     MORTDUE          VALUE     JOB  YOJ  DEROG  DELINQ  CLAGE  \\\n",
       "0   1  1100  25860.0000   39025.000000   Other   10    0.0     0.0     94   \n",
       "1   1  1300  70053.0000   68400.000000   Other    7    0.0     2.0    121   \n",
       "2   1  1500  13500.0000   16700.000000   Other    4    0.0     0.0    149   \n",
       "3   1  1500  73760.8172  101776.048741   Other    8    0.0     0.0    179   \n",
       "4   0  1700  97800.0000  112000.000000  Office    3    0.0     0.0     93   \n",
       "\n",
       "   NINQ  CLNO    DEBTINC  \n",
       "0   1.0     9  33.779915  \n",
       "1   0.0    14  33.779915  \n",
       "2   1.0    10  33.779915  \n",
       "3   0.0    21  33.779915  \n",
       "4   0.0    14  33.779915  "
      ]
     },
     "execution_count": 21,
     "metadata": {},
     "output_type": "execute_result"
    }
   ],
   "source": [
    "df1=pd.DataFrame()\n",
    "df1= df.drop(['REASON'], axis=1)\n",
    "df1.head()"
   ]
  },
  {
   "cell_type": "markdown",
   "metadata": {},
   "source": [
    "Calculating Variance Inflation Factor to detect Multicollinearity"
   ]
  },
  {
   "cell_type": "code",
   "execution_count": 22,
   "metadata": {},
   "outputs": [],
   "source": [
    "from patsy import dmatrices\n",
    "import statsmodels.api as sm\n",
    "from statsmodels.stats.outliers_influence import variance_inflation_factor"
   ]
  },
  {
   "cell_type": "code",
   "execution_count": 23,
   "metadata": {},
   "outputs": [],
   "source": [
    "\n",
    "#gathering the  features\n",
    "\n",
    "features = \"+\".join(subset.columns)\n",
    "\n",
    "# get y and X dataframes based on this regression:\n",
    "y, X = dmatrices('BAD ~' + features, df1, return_type='dataframe')"
   ]
  },
  {
   "cell_type": "code",
   "execution_count": 24,
   "metadata": {},
   "outputs": [
    {
     "data": {
      "text/html": [
       "<div>\n",
       "<style scoped>\n",
       "    .dataframe tbody tr th:only-of-type {\n",
       "        vertical-align: middle;\n",
       "    }\n",
       "\n",
       "    .dataframe tbody tr th {\n",
       "        vertical-align: top;\n",
       "    }\n",
       "\n",
       "    .dataframe thead th {\n",
       "        text-align: right;\n",
       "    }\n",
       "</style>\n",
       "<table border=\"1\" class=\"dataframe\">\n",
       "  <thead>\n",
       "    <tr style=\"text-align: right;\">\n",
       "      <th></th>\n",
       "      <th>Variance_inflation_factor</th>\n",
       "      <th>features</th>\n",
       "    </tr>\n",
       "  </thead>\n",
       "  <tbody>\n",
       "    <tr>\n",
       "      <td>0</td>\n",
       "      <td>29.5</td>\n",
       "      <td>Intercept</td>\n",
       "    </tr>\n",
       "    <tr>\n",
       "      <td>1</td>\n",
       "      <td>1.2</td>\n",
       "      <td>CLNO</td>\n",
       "    </tr>\n",
       "    <tr>\n",
       "      <td>2</td>\n",
       "      <td>1.1</td>\n",
       "      <td>DEBTINC</td>\n",
       "    </tr>\n",
       "    <tr>\n",
       "      <td>3</td>\n",
       "      <td>1.1</td>\n",
       "      <td>YOJ</td>\n",
       "    </tr>\n",
       "    <tr>\n",
       "      <td>4</td>\n",
       "      <td>1.1</td>\n",
       "      <td>DELINQ</td>\n",
       "    </tr>\n",
       "    <tr>\n",
       "      <td>5</td>\n",
       "      <td>1.1</td>\n",
       "      <td>DEROG</td>\n",
       "    </tr>\n",
       "    <tr>\n",
       "      <td>6</td>\n",
       "      <td>1.2</td>\n",
       "      <td>MORTDUE</td>\n",
       "    </tr>\n",
       "    <tr>\n",
       "      <td>7</td>\n",
       "      <td>1.1</td>\n",
       "      <td>LOAN</td>\n",
       "    </tr>\n",
       "    <tr>\n",
       "      <td>8</td>\n",
       "      <td>1.1</td>\n",
       "      <td>CLAGE</td>\n",
       "    </tr>\n",
       "    <tr>\n",
       "      <td>9</td>\n",
       "      <td>1.1</td>\n",
       "      <td>NINQ</td>\n",
       "    </tr>\n",
       "  </tbody>\n",
       "</table>\n",
       "</div>"
      ],
      "text/plain": [
       "   Variance_inflation_factor   features\n",
       "0                       29.5  Intercept\n",
       "1                        1.2       CLNO\n",
       "2                        1.1    DEBTINC\n",
       "3                        1.1        YOJ\n",
       "4                        1.1     DELINQ\n",
       "5                        1.1      DEROG\n",
       "6                        1.2    MORTDUE\n",
       "7                        1.1       LOAN\n",
       "8                        1.1      CLAGE\n",
       "9                        1.1       NINQ"
      ]
     },
     "execution_count": 24,
     "metadata": {},
     "output_type": "execute_result"
    }
   ],
   "source": [
    "# For each X, calculate VIF and save in dataframe\n",
    "\n",
    "vif=pd.DataFrame()\n",
    "\n",
    "vif[\"Variance_inflation_factor\"]= [variance_inflation_factor(X.values,i) for  i in range(X.shape[1]) ]\n",
    "\n",
    "vif[\"features\"] = X.columns\n",
    "\n",
    "vif.round(1)\n"
   ]
  },
  {
   "cell_type": "markdown",
   "metadata": {},
   "source": [
    "   As per the above VIF value ,all these variables have value less than threshold value of 5.\n",
    "   Hence MultiColinearity is NOT present and we are not dropping any variables from data."
   ]
  },
  {
   "cell_type": "code",
   "execution_count": 25,
   "metadata": {},
   "outputs": [
    {
     "name": "stdout",
     "output_type": "stream",
     "text": [
      "Indentifed as BAD LOAN :  1188\n",
      "Indentifed as GOOD LOAN :  4771\n"
     ]
    }
   ],
   "source": [
    "print(\"Indentifed as BAD LOAN : \" ,len(df1[df1['BAD'] == 1]))\n",
    "\n",
    "print(\"Indentifed as GOOD LOAN : \" ,len(df1[df1['BAD'] == 0]))"
   ]
  },
  {
   "cell_type": "markdown",
   "metadata": {},
   "source": [
    "There is no Class imbalance as per the ratio above, hence undersampling is not required in this case."
   ]
  },
  {
   "cell_type": "markdown",
   "metadata": {},
   "source": [
    "\n"
   ]
  },
  {
   "cell_type": "markdown",
   "metadata": {},
   "source": [
    "**Splitting the dataset into training and test**"
   ]
  },
  {
   "cell_type": "code",
   "execution_count": 26,
   "metadata": {},
   "outputs": [
    {
     "name": "stdout",
     "output_type": "stream",
     "text": [
      "(4171, 16) (1788, 16) (4171,) (1788,)\n"
     ]
    }
   ],
   "source": [
    "from sklearn.model_selection import train_test_split\n",
    "\n",
    "y = df1.BAD\n",
    "X = df1.drop(['BAD'], axis=1)\n",
    "\n",
    "X=pd.get_dummies(X) \n",
    "\n",
    "\n",
    "X_train, X_test, y_train, y_test = train_test_split(X, y, test_size=0.3, random_state=42)\n",
    "\n",
    "print(X_train.shape, X_test.shape, y_train.shape, y_test.shape)"
   ]
  },
  {
   "cell_type": "markdown",
   "metadata": {},
   "source": [
    "**MODEL BUILDING**"
   ]
  },
  {
   "cell_type": "markdown",
   "metadata": {},
   "source": [
    "LOGISTIC REGRESSION\n"
   ]
  },
  {
   "cell_type": "code",
   "execution_count": 27,
   "metadata": {},
   "outputs": [],
   "source": [
    "\n",
    "from sklearn.linear_model import LogisticRegression\n",
    "from sklearn.metrics import confusion_matrix\n",
    "from sklearn.metrics import classification_report\n",
    "from sklearn.metrics import roc_auc_score\n",
    "from sklearn.metrics import roc_curve\n",
    "\n",
    "\n",
    "def run_regression_accuracy(X_train, y_train, X_test, y_test):\n",
    "    logreg=LogisticRegression()\n",
    "    logreg.fit(X_train,y_train)\n",
    "    y_pred= logreg.predict(X_test)\n",
    "\n",
    "    print('Accuracy of logistic regression classifier on test set: {:.2f}'.format(logreg.score(X_test, y_test)))\n",
    "\n",
    "    cm = confusion_matrix(y_test, y_pred)\n",
    "\n",
    "    print('\\nConfusion matrix: \\n',cm)\n",
    "\n",
    "    print('\\nClassification report: \\n',classification_report(y_test, y_pred))\n",
    "\n",
    "    logit_roc_auc = roc_auc_score(y_test, logreg.predict(X_test))\n",
    "    fpr, tpr, thresholds = roc_curve(y_test, logreg.predict_proba(X_test)[:,1])\n",
    "\n",
    "    plt.figure()\n",
    "    plt.plot(fpr, tpr, label='Logistic Regression (area = %0.2f)' % logit_roc_auc)\n",
    "    plt.plot([0, 1], [0, 1],'r--')\n",
    "    plt.xlim([0.0, 1.0])\n",
    "    plt.ylim([0.0, 1.05])\n",
    "    plt.xlabel('False Positive Rate')\n",
    "    plt.ylabel('True Positive Rate')\n",
    "    plt.title('Receiver operating characteristic')\n",
    "    plt.legend(loc=\"lower right\")\n",
    "    plt.savefig('Log_ROC')\n",
    "    plt.show()\n",
    "  \n",
    "    return logreg\n"
   ]
  },
  {
   "cell_type": "code",
   "execution_count": 28,
   "metadata": {},
   "outputs": [
    {
     "name": "stderr",
     "output_type": "stream",
     "text": [
      "C:\\Users\\velth\\Anaconda3\\lib\\site-packages\\sklearn\\linear_model\\logistic.py:432: FutureWarning: Default solver will be changed to 'lbfgs' in 0.22. Specify a solver to silence this warning.\n",
      "  FutureWarning)\n"
     ]
    },
    {
     "name": "stdout",
     "output_type": "stream",
     "text": [
      "Accuracy of logistic regression classifier on test set: 0.78\n",
      "\n",
      "Confusion matrix: \n",
      " [[1388    4]\n",
      " [ 391    5]]\n",
      "\n",
      "Classification report: \n",
      "               precision    recall  f1-score   support\n",
      "\n",
      "           0       0.78      1.00      0.88      1392\n",
      "           1       0.56      0.01      0.02       396\n",
      "\n",
      "    accuracy                           0.78      1788\n",
      "   macro avg       0.67      0.50      0.45      1788\n",
      "weighted avg       0.73      0.78      0.69      1788\n",
      "\n"
     ]
    },
    {
     "data": {
      "image/png": "[encoded data removed]",
      "text/plain": [
       "<Figure size 432x288 with 1 Axes>"
      ]
     },
     "metadata": {
      "needs_background": "light"
     },
     "output_type": "display_data"
    }
   ],
   "source": [
    "logreg = run_regression_accuracy(X_train, y_train, X_test, y_test)"
   ]
  },
  {
   "cell_type": "markdown",
   "metadata": {},
   "source": [
    "RANDOM FOREST"
   ]
  },
  {
   "cell_type": "code",
   "execution_count": 29,
   "metadata": {},
   "outputs": [
    {
     "name": "stdout",
     "output_type": "stream",
     "text": [
      "Accuracy of Random Forest classifier on test set: 0.91\n"
     ]
    }
   ],
   "source": [
    "from sklearn.ensemble  import RandomForestClassifier \n",
    "\n",
    "# Creating the model with 100 trees\n",
    "\n",
    "ranfor = RandomForestClassifier(n_estimators=100, \n",
    "                               bootstrap = True,\n",
    "                               max_features = 'sqrt')\n",
    "# Fit on training data\n",
    "\n",
    "ranfor.fit(X_train, y_train)\n",
    "\n",
    "y_pred= ranfor.predict(X_test)\n",
    "\n",
    "print('Accuracy of Random Forest classifier on test set: {:.2f}'.format(ranfor.score(X_test, y_test)))\n"
   ]
  },
  {
   "cell_type": "code",
   "execution_count": 30,
   "metadata": {},
   "outputs": [
    {
     "name": "stdout",
     "output_type": "stream",
     "text": [
      "\n",
      "Confusion matrix: \n",
      " [[1353   39]\n",
      " [ 129  267]]\n",
      "\n",
      "Classification report: \n",
      "               precision    recall  f1-score   support\n",
      "\n",
      "           0       0.91      0.97      0.94      1392\n",
      "           1       0.87      0.67      0.76       396\n",
      "\n",
      "    accuracy                           0.91      1788\n",
      "   macro avg       0.89      0.82      0.85      1788\n",
      "weighted avg       0.90      0.91      0.90      1788\n",
      "\n"
     ]
    },
    {
     "data": {
      "image/png": "[encoded data removed]",
      "text/plain": [
       "<Figure size 432x288 with 1 Axes>"
      ]
     },
     "metadata": {
      "needs_background": "light"
     },
     "output_type": "display_data"
    }
   ],
   "source": [
    "cm = confusion_matrix(y_test, y_pred)\n",
    "\n",
    "print('\\nConfusion matrix: \\n',cm)\n",
    "\n",
    "print('\\nClassification report: \\n',classification_report(y_test, y_pred))\n",
    "\n",
    "ranfor_roc_auc = roc_auc_score(y_test, ranfor.predict(X_test))\n",
    "fpr, tpr, thresholds = roc_curve(y_test, ranfor.predict_proba(X_test)[:,1])\n",
    "\n",
    "plt.figure()\n",
    "plt.plot(fpr, tpr, label='Randforest Classifier (area = %0.2f)' % ranfor_roc_auc)\n",
    "plt.plot([0, 1], [0, 1],'r--')\n",
    "plt.xlim([0.0, 1.0])\n",
    "plt.ylim([0.0, 1.05])\n",
    "plt.xlabel('False Positive Rate')\n",
    "plt.ylabel('True Positive Rate')\n",
    "plt.title('Receiver operating characteristic')\n",
    "plt.legend(loc=\"lower right\")\n",
    "plt.savefig('Ranfor_ROC')\n",
    "plt.show()"
   ]
  },
  {
   "cell_type": "markdown",
   "metadata": {},
   "source": [
    "DECISION TREE"
   ]
  },
  {
   "cell_type": "code",
   "execution_count": 31,
   "metadata": {},
   "outputs": [
    {
     "name": "stdout",
     "output_type": "stream",
     "text": [
      "The Training F1 score is : 1.0\n",
      "The Test F1 score is : 0.6521145975443383\n"
     ]
    }
   ],
   "source": [
    "from sklearn.tree import DecisionTreeClassifier as dt\n",
    "\n",
    "\n",
    "clf= dt()\n",
    "\n",
    "clf.fit(X_train,y_train)\n",
    "train_predictions=clf.predict(X_train)\n",
    "test_predictions=clf.predict(X_test)\n",
    "\n",
    "\n",
    "print(\"The Training F1 score is :\", f1_score(train_predictions,y_train))\n",
    "print(\"The Test F1 score is :\" ,f1_score(test_predictions,y_test))\n"
   ]
  },
  {
   "cell_type": "markdown",
   "metadata": {},
   "source": [
    "The Decision Tree is NOT a right choice since the F1 score is 1 for the training data and it is overfitting."
   ]
  },
  {
   "cell_type": "markdown",
   "metadata": {},
   "source": [
    "GRADIENT BOOSTING METHOD"
   ]
  },
  {
   "cell_type": "code",
   "execution_count": 32,
   "metadata": {},
   "outputs": [
    {
     "name": "stdout",
     "output_type": "stream",
     "text": [
      "Collecting package metadata (current_repodata.json): ...working... done\n",
      "Solving environment: ...working... done\n",
      "\n",
      "# All requested packages already installed.\n",
      "\n",
      "\n",
      "Note: you may need to restart the kernel to use updated packages.\n"
     ]
    }
   ],
   "source": [
    "#Installing XGboost\n",
    "\n",
    "conda install -y pip\n",
    "pip install --upgrade virtualenv\n",
    "pip install xgboost"
   ]
  },
  {
   "cell_type": "code",
   "execution_count": 34,
   "metadata": {},
   "outputs": [],
   "source": [
    "import xgboost as xgb\n",
    "\n",
    "from xgboost.sklearn import XGBClassifier\n",
    "\n",
    "from sklearn.model_selection import GridSearchCV,RandomizedSearchCV   "
   ]
  },
  {
   "cell_type": "code",
   "execution_count": 36,
   "metadata": {},
   "outputs": [
    {
     "name": "stdout",
     "output_type": "stream",
     "text": [
      "Accuracy of XG Boost classifier on test set: 0.89\n"
     ]
    }
   ],
   "source": [
    "XGB =  XGBClassifier()\n",
    "\n",
    "# Fit on training data\n",
    "\n",
    "XGB.fit(X_train, y_train)\n",
    "\n",
    "y_pred= XGB.predict(X_test)\n",
    "\n",
    "print('Accuracy of XG Boost classifier on test set: {:.2f}'.format(XGB.score(X_test, y_test)))"
   ]
  },
  {
   "cell_type": "code",
   "execution_count": 38,
   "metadata": {},
   "outputs": [
    {
     "name": "stdout",
     "output_type": "stream",
     "text": [
      "\n",
      "Confusion matrix: \n",
      " [[1351   41]\n",
      " [ 159  237]]\n",
      "\n",
      "Classification report: \n",
      "               precision    recall  f1-score   support\n",
      "\n",
      "           0       0.89      0.97      0.93      1392\n",
      "           1       0.85      0.60      0.70       396\n",
      "\n",
      "    accuracy                           0.89      1788\n",
      "   macro avg       0.87      0.78      0.82      1788\n",
      "weighted avg       0.89      0.89      0.88      1788\n",
      "\n"
     ]
    },
    {
     "data": {
      "image/png": "[encoded data removed]",
      "text/plain": [
       "<Figure size 432x288 with 1 Axes>"
      ]
     },
     "metadata": {
      "needs_background": "light"
     },
     "output_type": "display_data"
    }
   ],
   "source": [
    "cm = confusion_matrix(y_test, y_pred)\n",
    "\n",
    "print('\\nConfusion matrix: \\n',cm)\n",
    "\n",
    "print('\\nClassification report: \\n',classification_report(y_test, y_pred))\n",
    "\n",
    "xgb_roc_auc = roc_auc_score(y_test, XGB.predict(X_test))\n",
    "fpr, tpr, thresholds = roc_curve(y_test, XGB.predict_proba(X_test)[:,1])\n",
    "\n",
    "plt.figure()\n",
    "plt.plot(fpr, tpr, label='XG boost Classifier (area = %0.2f)' % xgb_roc_auc)\n",
    "plt.plot([0, 1], [0, 1],'r--')\n",
    "plt.xlim([0.0, 1.0])\n",
    "plt.ylim([0.0, 1.05])\n",
    "plt.xlabel('False Positive Rate')\n",
    "plt.ylabel('True Positive Rate')\n",
    "plt.title('Receiver operating characteristic')\n",
    "plt.legend(loc=\"lower right\")\n",
    "plt.savefig('Ranfor_ROC')\n",
    "plt.show()"
   ]
  },
  {
   "cell_type": "markdown",
   "metadata": {},
   "source": [
    "After comparing all the AUC scores from 4 different models, the **Random Forest Classifier** comes out as the best model with an AUC score of 0.82 . "
   ]
  },
  {
   "cell_type": "markdown",
   "metadata": {},
   "source": [
    "**Hyperparameter Tuning**"
   ]
  },
  {
   "cell_type": "code",
   "execution_count": 41,
   "metadata": {},
   "outputs": [],
   "source": [
    "from sklearn.model_selection import GridSearchCV,RandomizedSearchCV,cross_val_score"
   ]
  },
  {
   "cell_type": "code",
   "execution_count": 42,
   "metadata": {},
   "outputs": [
    {
     "name": "stdout",
     "output_type": "stream",
     "text": [
      "0.9617393033894661\n"
     ]
    }
   ],
   "source": [
    "score=cross_val_score(ranfor,X_train,y_train,cv=5,scoring='roc_auc')\n",
    "print(score.mean())"
   ]
  },
  {
   "cell_type": "code",
   "execution_count": 43,
   "metadata": {},
   "outputs": [
    {
     "name": "stdout",
     "output_type": "stream",
     "text": [
      "RandomForestClassifier(bootstrap=True, class_weight=None, criterion='gini',\n",
      "                       max_depth=None, max_features='sqrt', max_leaf_nodes=None,\n",
      "                       min_impurity_decrease=0.0, min_impurity_split=None,\n",
      "                       min_samples_leaf=1, min_samples_split=2,\n",
      "                       min_weight_fraction_leaf=0.0, n_estimators=100,\n",
      "                       n_jobs=None, oob_score=False, random_state=None,\n",
      "                       verbose=0, warm_start=False)\n"
     ]
    }
   ],
   "source": [
    "print(ranfor)"
   ]
  },
  {
   "cell_type": "code",
   "execution_count": null,
   "metadata": {},
   "outputs": [],
   "source": [
    "from sklearn.metrics import make_scorer\n",
    "\n",
    "parameters={'max_depth':[1,2,3,4,5],\n",
    "    'min_samples_leaf':[1,2,3,4,5],\n",
    "    'min_samples_split':[2,3,4,5],\n",
    "    'criterion':['gini','entropy']\n",
    "     }\n",
    "\n",
    "#scorer=make_scorer(f1_Score)"
   ]
  },
  {
   "cell_type": "code",
   "execution_count": 49,
   "metadata": {},
   "outputs": [
    {
     "name": "stdout",
     "output_type": "stream",
     "text": [
      "Fitting 3 folds for each of 200 candidates, totalling 600 fits\n"
     ]
    },
    {
     "name": "stderr",
     "output_type": "stream",
     "text": [
      "[Parallel(n_jobs=-1)]: Using backend LokyBackend with 4 concurrent workers.\n",
      "[Parallel(n_jobs=-1)]: Done  33 tasks      | elapsed:    9.7s\n",
      "[Parallel(n_jobs=-1)]: Done 154 tasks      | elapsed:   28.8s\n",
      "[Parallel(n_jobs=-1)]: Done 357 tasks      | elapsed:  1.2min\n",
      "[Parallel(n_jobs=-1)]: Done 600 out of 600 | elapsed:  2.2min finished\n"
     ]
    },
    {
     "name": "stdout",
     "output_type": "stream",
     "text": [
      "0.824752084855491\n"
     ]
    }
   ],
   "source": [
    "# GRID SEARCH\n",
    "\n",
    "Grid_search_obj=GridSearchCV(ranfor,parameters,cv = 3, n_jobs = -1, verbose = 2)\n",
    "\n",
    "fit_obj= Grid_search_obj.fit(X,y)\n",
    "\n",
    "best_clf= fit_obj.best_estimator_\n",
    "\n",
    "Grid_score=cross_val_score(best_clf,X_train,y_train,cv=5,scoring='roc_auc')\n",
    "print(Grid_score.mean())\n",
    "\n",
    "\n",
    "#Fitting the new classifier\n",
    "\n",
    "best_clf.fit(X_train,y_train)\n",
    "train_predictions_grid=ranfor.predict(X_train)\n",
    "test_predictions_grid=ranfor.predict(X_test)\n",
    "\n",
    "\n",
    "#print(\"The Training score is :\", f1_score(train_predictions_grid,y_train))\n",
    "#print(\"The Test  score is :\" ,f1_score(test_predictions_grid,y_test))\n",
    "\n",
    "\n"
   ]
  },
  {
   "cell_type": "code",
   "execution_count": 90,
   "metadata": {},
   "outputs": [
    {
     "name": "stderr",
     "output_type": "stream",
     "text": [
      "C:\\Users\\velth\\Anaconda3\\lib\\site-packages\\sklearn\\model_selection\\_split.py:1978: FutureWarning: The default value of cv will change from 3 to 5 in version 0.22. Specify it explicitly to silence this warning.\n",
      "  warnings.warn(CV_WARNING, FutureWarning)\n",
      "C:\\Users\\velth\\Anaconda3\\lib\\site-packages\\sklearn\\metrics\\classification.py:1437: UndefinedMetricWarning: F-score is ill-defined and being set to 0.0 due to no predicted samples.\n",
      "  'precision', 'predicted', average, warn_for)\n"
     ]
    },
    {
     "name": "stdout",
     "output_type": "stream",
     "text": [
      "0.7434927038126261\n",
      "The Training F1 score is : 1.0\n",
      "The Test F1 score is : 0.6666666666666666\n"
     ]
    }
   ],
   "source": [
    "# RANDOMIZED SEARCH\n",
    "\n",
    "rand_search_obj=RandomizedSearchCV(clf,parameters,scoring=scorer)\n",
    "\n",
    "fit_obj= rand_search_obj.fit(X,y)\n",
    "\n",
    "best_clf_rand= fit_obj.best_estimator_\n",
    "\n",
    "rand_score=cross_val_score(best_clf_rand,X_train,y_train,cv=5,scoring='f1_macro')\n",
    "print(rand_score.mean())\n",
    "\n",
    "\n",
    "#Fitting the new classifier\n",
    "\n",
    "best_clf_rand.fit(X_train,y_train)\n",
    "train_predictions_rand=clf.predict(X_train)\n",
    "test_predictions_rand=clf.predict(X_test)\n",
    "\n",
    "\n",
    "print(\"The Training F1 score is :\", f1_score(train_predictions_rand,y_train))\n",
    "print(\"The Test F1 score is :\" ,f1_score(test_predictions_rand,y_test))\n",
    "\n",
    "\n"
   ]
  },
  {
   "cell_type": "markdown",
   "metadata": {},
   "source": [
    "Even after the Hyperparameter tuning , the F1 score for training  is still 1 and is overfitting. "
   ]
  },
  {
   "cell_type": "code",
   "execution_count": null,
   "metadata": {},
   "outputs": [],
   "source": []
  },
  {
   "cell_type": "code",
   "execution_count": null,
   "metadata": {},
   "outputs": [],
   "source": []
  }
 ],
 "metadata": {
  "kernelspec": {
   "display_name": "Python 3",
   "language": "python",
   "name": "python3"
  },
  "language_info": {
   "codemirror_mode": {
    "name": "ipython",
    "version": 3
   },
   "file_extension": ".py",
   "mimetype": "text/x-python",
   "name": "python",
   "nbconvert_exporter": "python",
   "pygments_lexer": "ipython3",
   "version": "3.7.4"
  }
 },
 "nbformat": 4,
 "nbformat_minor": 2
}
