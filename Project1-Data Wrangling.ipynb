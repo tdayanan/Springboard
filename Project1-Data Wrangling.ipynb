{
 "cells": [
  {
   "cell_type": "code",
   "execution_count": 80,
   "metadata": {
    "collapsed": false
   },
   "outputs": [],
   "source": [
    "import pandas as pd\n",
    "%matplotlib inline\n",
    "import matplotlib.pyplot as plt\n",
    "import numpy as np"
   ]
  },
  {
   "cell_type": "code",
   "execution_count": 81,
   "metadata": {
    "collapsed": false
   },
   "outputs": [
    {
     "name": "stdout",
     "output_type": "stream",
     "text": [
      "<class 'pandas.core.frame.DataFrame'>\n",
      "RangeIndex: 5960 entries, 0 to 5959\n",
      "Data columns (total 13 columns):\n",
      "BAD        5960 non-null int64\n",
      "LOAN       5960 non-null int64\n",
      "MORTDUE    5442 non-null float64\n",
      "VALUE      5848 non-null float64\n",
      "REASON     5708 non-null object\n",
      "JOB        5681 non-null object\n",
      "YOJ        5445 non-null float64\n",
      "DEROG      5252 non-null float64\n",
      "DELINQ     5380 non-null float64\n",
      "CLAGE      5652 non-null float64\n",
      "NINQ       5450 non-null float64\n",
      "CLNO       5738 non-null float64\n",
      "DEBTINC    4693 non-null float64\n",
      "dtypes: float64(9), int64(2), object(2)\n",
      "memory usage: 605.4+ KB\n"
     ]
    }
   ],
   "source": [
    "# dataset=pd.read_csv(filepath, header =,names=, na_values= , parse_dates=[[0,1,2]]) \n",
    "\n",
    "df=pd.read_csv('C:/Users/velth/Desktop/Springboard/datasets/hmeq.csv')\n",
    "#print(df)\n",
    "\n",
    "#inital review of data with info() and head () methods\n",
    "df.head()\n",
    "df.info()\n",
    "#print (type(df))\n",
    "\n"
   ]
  },
  {
   "cell_type": "code",
   "execution_count": 95,
   "metadata": {
    "collapsed": false
   },
   "outputs": [
    {
     "name": "stdout",
     "output_type": "stream",
     "text": [
      "Other      2388\n",
      "ProfExe    1276\n",
      "Office      948\n",
      "Mgr         767\n",
      "NaN         279\n",
      "Self        193\n",
      "Sales       109\n",
      "Name: JOB, dtype: int64\n",
      "DebtCon    3928\n",
      "HomeImp    1780\n",
      "NaN         252\n",
      "Name: REASON, dtype: int64\n"
     ]
    }
   ],
   "source": [
    "# Frequency counts on categorical columns JOB and REASON to view different job types  \n",
    "\n",
    "print(df.JOB.value_counts(dropna=False))\n",
    "print(df.REASON.value_counts(dropna=False))"
   ]
  },
  {
   "cell_type": "code",
   "execution_count": 83,
   "metadata": {
    "collapsed": false
   },
   "outputs": [
    {
     "name": "stdout",
     "output_type": "stream",
     "text": [
      "<class 'pandas.core.frame.DataFrame'>\n",
      "RangeIndex: 5960 entries, 0 to 5959\n",
      "Data columns (total 13 columns):\n",
      "BAD        5960 non-null category\n",
      "LOAN       5960 non-null int64\n",
      "MORTDUE    5442 non-null float64\n",
      "VALUE      5848 non-null float64\n",
      "REASON     5708 non-null category\n",
      "JOB        5681 non-null category\n",
      "YOJ        5445 non-null float64\n",
      "DEROG      5252 non-null float64\n",
      "DELINQ     5380 non-null float64\n",
      "CLAGE      5652 non-null float64\n",
      "NINQ       5450 non-null float64\n",
      "CLNO       5738 non-null float64\n",
      "DEBTINC    4693 non-null float64\n",
      "dtypes: category(3), float64(9), int64(1)\n",
      "memory usage: 483.2 KB\n"
     ]
    }
   ],
   "source": [
    "# CONVERTING DATA TYPES of COLUMNS\n",
    "\n",
    "\n",
    "# Converting object type to category for columns 'REASON' and 'JOB' and 'BAD'\n",
    "\n",
    "df['JOB'] =df['JOB'].astype('category')\n",
    "df['REASON']=df['REASON'].astype('category')\n",
    "df['BAD']=df['BAD'].astype('category')\n",
    "\n",
    "# Converting Float to Integer data type\n",
    "df['CLAGE']=pd.to_numeric(df['CLAGE'],errors='ignore',downcast='signed')\n",
    "\n",
    "df.info()\n",
    "\n",
    "\n",
    "#print(type(df.REASON))\n",
    "\n",
    "\n",
    "#converting the column CLAGE from float to integers to round off clage since its number of months\n",
    "\n",
    "#df=df.astype({\"CLAGE\":int})\n",
    "#or \n",
    "#df['CLAGE']=df['CLAGE'].apply(np.int64)\n",
    "\n"
   ]
  },
  {
   "cell_type": "code",
   "execution_count": 135,
   "metadata": {
    "collapsed": false
   },
   "outputs": [
    {
     "name": "stdout",
     "output_type": "stream",
     "text": [
      "count    5960.000000\n",
      "mean       21.296096\n",
      "std         9.948280\n",
      "min         0.000000\n",
      "25%        15.000000\n",
      "50%        21.000000\n",
      "75%        26.000000\n",
      "max        71.000000\n",
      "Name: CLNO, dtype: float64\n",
      "count     5960.000000\n",
      "mean     18607.969799\n",
      "std      11207.480417\n",
      "min       1100.000000\n",
      "25%      11100.000000\n",
      "50%      16300.000000\n",
      "75%      23300.000000\n",
      "max      89900.000000\n",
      "Name: LOAN, dtype: float64\n"
     ]
    },
    {
     "data": {
      "image/png": "[encoded data removed]",
      "text/plain": [
       "<matplotlib.figure.Figure at 0x26dfe6221d0>"
      ]
     },
     "metadata": {},
     "output_type": "display_data"
    }
   ],
   "source": [
    "# OUTLIERS\n",
    "\n",
    "# Reviewing columns to find outliers  , CLNO: Number of credit lines\n",
    "\n",
    "print (df.CLNO.describe())  \n",
    "print (df.LOAN.describe())\n",
    "# Scatter plots to see relationsip between two numeric columns\n",
    "\n",
    "df.plot(kind='scatter', x='MORTDUE',y='DELINQ',rot=70)\n",
    "plt.show()\n",
    "\n",
    "# From the results, There is a few around 400K MORTDUE as outliers \n",
    "\n",
    "# Also interesting to note that DELINQ(no of delinquent credit lines) is not co-related to MORTDUE(amount due on existing mortgage) \n",
    "\n"
   ]
  },
  {
   "cell_type": "code",
   "execution_count": 137,
   "metadata": {
    "collapsed": false
   },
   "outputs": [
    {
     "name": "stdout",
     "output_type": "stream",
     "text": [
      "<class 'pandas.core.frame.DataFrame'>\n",
      "Int64Index: 5960 entries, 0 to 5959\n",
      "Data columns (total 13 columns):\n",
      "BAD        5960 non-null category\n",
      "LOAN       5960 non-null int64\n",
      "MORTDUE    5960 non-null float64\n",
      "VALUE      5960 non-null float64\n",
      "REASON     5960 non-null category\n",
      "JOB        5960 non-null category\n",
      "YOJ        5960 non-null float64\n",
      "DEROG      5960 non-null float64\n",
      "DELINQ     5960 non-null float64\n",
      "CLAGE      5960 non-null float64\n",
      "NINQ       5960 non-null float64\n",
      "CLNO       5960 non-null float64\n",
      "DEBTINC    5960 non-null float64\n",
      "dtypes: category(3), float64(9), int64(1)\n",
      "memory usage: 529.7 KB\n"
     ]
    }
   ],
   "source": [
    "# Removing any duplicate values in the data if existed \n",
    "\n",
    "df=df.drop_duplicates()\n",
    "#print(df)  # There were no duplicate values in the data\n",
    "\n",
    "# Getting the count of the missing values\n",
    "\n",
    "df_missing=df.dropna()\n",
    "df_missing.info()\n",
    "\n",
    "# Almost 40 % of the data wil be lost if we drop all the missing values \n"
   ]
  },
  {
   "cell_type": "code",
   "execution_count": 131,
   "metadata": {
    "collapsed": false
   },
   "outputs": [
    {
     "data": {
      "text/plain": [
       "BAD        0\n",
       "LOAN       0\n",
       "MORTDUE    0\n",
       "VALUE      0\n",
       "REASON     0\n",
       "JOB        0\n",
       "YOJ        0\n",
       "DEROG      0\n",
       "DELINQ     0\n",
       "CLAGE      0\n",
       "NINQ       0\n",
       "CLNO       0\n",
       "DEBTINC    0\n",
       "dtype: int64"
      ]
     },
     "execution_count": 131,
     "metadata": {},
     "output_type": "execute_result"
    }
   ],
   "source": [
    "# REPLACING MISSING VALUES\n",
    "\n",
    "# Most common category is replaced for missing values of categorical columns\n",
    "\n",
    "df.JOB=df.JOB.fillna('Other')\n",
    "df.REASON=df.REASON.fillna('DebtCon')\n",
    "\n",
    "# Mean of the values are filled for missing values of other columns\n",
    "\n",
    "df.MORTDUE=df.MORTDUE.fillna(df.MORTDUE.mean())\n",
    "df.VALUE=df.VALUE.fillna(df.VALUE.mean())\n",
    "df.YOJ= df.YOJ.fillna(df.YOJ.mean())\n",
    "df.CLAGE=df.CLAGE.fillna(df.CLAGE.mean())\n",
    "df.CLNO =df.CLNO.fillna(df.CLNO.mean())\n",
    "df.DEBTINC =df.DEBTINC.fillna(df.DEBTINC.mean())\n",
    "\n",
    "df.DEROG.value_counts() # since 76% of the values are 0 , it will be imputed for NA \n",
    "df.DEROG=df.DEROG.fillna(0)\n",
    "\n",
    "df.DELINQ.value_counts() # since 70% of values are 0,it will be imputed for NA \n",
    "df.DELINQ=df.DELINQ.fillna(0)\n",
    "\n",
    "df.NINQ.value_counts(dropna=False) # since 42% of values are 0,it will be imputed for NA \n",
    "\n",
    "df.NINQ=df.NINQ.fillna(0)\n",
    "\n",
    "df.isnull().sum() # Verified that there are no null values\n"
   ]
  },
  {
   "cell_type": "code",
   "execution_count": null,
   "metadata": {
    "collapsed": true
   },
   "outputs": [],
   "source": []
  },
  {
   "cell_type": "code",
   "execution_count": null,
   "metadata": {
    "collapsed": true
   },
   "outputs": [],
   "source": []
  },
  {
   "cell_type": "code",
   "execution_count": null,
   "metadata": {
    "collapsed": true
   },
   "outputs": [],
   "source": []
  }
 ],
 "metadata": {
  "kernelspec": {
   "display_name": "Python 3",
   "language": "python",
   "name": "python3"
  },
  "language_info": {
   "codemirror_mode": {
    "name": "ipython",
    "version": 3
   },
   "file_extension": ".py",
   "mimetype": "text/x-python",
   "name": "python",
   "nbconvert_exporter": "python",
   "pygments_lexer": "ipython3",
   "version": "3.6.0"
  }
 },
 "nbformat": 4,
 "nbformat_minor": 2
}
