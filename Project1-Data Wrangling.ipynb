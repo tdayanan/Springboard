{
 "cells": [
  {
   "cell_type": "code",
   "execution_count": 1,
   "metadata": {
    "collapsed": false
   },
   "outputs": [],
   "source": [
    "import pandas as pd\n",
    "%matplotlib inline\n",
    "import matplotlib.pyplot as plt\n",
    "import numpy as np"
   ]
  },
  {
   "cell_type": "code",
   "execution_count": 2,
   "metadata": {
    "collapsed": false
   },
   "outputs": [
    {
     "name": "stdout",
     "output_type": "stream",
     "text": [
      "<class 'pandas.core.frame.DataFrame'>\n",
      "RangeIndex: 5960 entries, 0 to 5959\n",
      "Data columns (total 13 columns):\n",
      "BAD        5960 non-null int64\n",
      "LOAN       5960 non-null int64\n",
      "MORTDUE    5442 non-null float64\n",
      "VALUE      5848 non-null float64\n",
      "REASON     5708 non-null object\n",
      "JOB        5681 non-null object\n",
      "YOJ        5445 non-null float64\n",
      "DEROG      5252 non-null float64\n",
      "DELINQ     5380 non-null float64\n",
      "CLAGE      5652 non-null float64\n",
      "NINQ       5450 non-null float64\n",
      "CLNO       5738 non-null float64\n",
      "DEBTINC    4693 non-null float64\n",
      "dtypes: float64(9), int64(2), object(2)\n",
      "memory usage: 605.4+ KB\n"
     ]
    }
   ],
   "source": [
    "# dataset=pd.read_csv(filepath, header =,names=, na_values= , parse_dates=[[0,1,2]]) \n",
    "\n",
    "df=pd.read_csv('C:/Users/velth/Desktop/Springboard/datasets/hmeq.csv')\n",
    "#print(df)\n",
    "\n",
    "#inital review of data with info() and head () methods\n",
    "df.head()\n",
    "df.info()\n",
    "#print (type(df))\n",
    "\n"
   ]
  },
  {
   "cell_type": "code",
   "execution_count": 3,
   "metadata": {
    "collapsed": false
   },
   "outputs": [
    {
     "name": "stdout",
     "output_type": "stream",
     "text": [
      "Other      2388\n",
      "ProfExe    1276\n",
      "Office      948\n",
      "Mgr         767\n",
      "NaN         279\n",
      "Self        193\n",
      "Sales       109\n",
      "Name: JOB, dtype: int64\n",
      "DebtCon    3928\n",
      "HomeImp    1780\n",
      "NaN         252\n",
      "Name: REASON, dtype: int64\n"
     ]
    }
   ],
   "source": [
    "# Frequency counts on categorical columns JOB and REASON to view different job types  \n",
    "\n",
    "print(df.JOB.value_counts(dropna=False))\n",
    "print(df.REASON.value_counts(dropna=False))"
   ]
  },
  {
   "cell_type": "code",
   "execution_count": 4,
   "metadata": {
    "collapsed": false
   },
   "outputs": [
    {
     "name": "stdout",
     "output_type": "stream",
     "text": [
      "<class 'pandas.core.frame.DataFrame'>\n",
      "RangeIndex: 5960 entries, 0 to 5959\n",
      "Data columns (total 13 columns):\n",
      "BAD        5960 non-null category\n",
      "LOAN       5960 non-null int64\n",
      "MORTDUE    5442 non-null float64\n",
      "VALUE      5848 non-null float64\n",
      "REASON     5708 non-null category\n",
      "JOB        5681 non-null category\n",
      "YOJ        5960 non-null int32\n",
      "DEROG      5252 non-null float64\n",
      "DELINQ     5380 non-null float64\n",
      "CLAGE      5960 non-null int32\n",
      "NINQ       5450 non-null float64\n",
      "CLNO       5960 non-null int32\n",
      "DEBTINC    4693 non-null float64\n",
      "dtypes: category(3), float64(6), int32(3), int64(1)\n",
      "memory usage: 413.4 KB\n"
     ]
    }
   ],
   "source": [
    "# CONVERTING DATA TYPES of COLUMNS\n",
    "\n",
    "\n",
    "# Converting object type to category for columns 'REASON' and 'JOB' and 'BAD'\n",
    "\n",
    "df['JOB'] =df['JOB'].astype('category')\n",
    "df['REASON']=df['REASON'].astype('category')\n",
    "df['BAD']=df['BAD'].astype('category')\n",
    "\n",
    "# Imputing values of the columns before converting to int from float\n",
    "\n",
    "df.YOJ= df.YOJ.fillna(df.YOJ.mean())\n",
    "df.CLAGE=df.CLAGE.fillna(df.CLAGE.mean())\n",
    "df.CLNO =df.CLNO.fillna(df.CLNO.mean())\n",
    "\n",
    "# Converting data type of columns from Float to Integer\n",
    "\n",
    "df.YOJ= df.YOJ.astype(int)\n",
    "df.CLNO =df.CLNO.astype(int)\n",
    "df.CLAGE=df.CLAGE.astype(int)\n",
    "\n",
    "# df['CLAGE']=pd.to_numeric(df['CLAGE'],errors='ignore',downcast='signed')\n",
    "\n",
    "df.info() # Shows the columns coverted to INT \n"
   ]
  },
  {
   "cell_type": "code",
   "execution_count": 5,
   "metadata": {
    "collapsed": false
   },
   "outputs": [
    {
     "name": "stdout",
     "output_type": "stream",
     "text": [
      "<class 'pandas.core.frame.DataFrame'>\n",
      "Int64Index: 3585 entries, 5 to 5959\n",
      "Data columns (total 13 columns):\n",
      "BAD        3585 non-null category\n",
      "LOAN       3585 non-null int64\n",
      "MORTDUE    3585 non-null float64\n",
      "VALUE      3585 non-null float64\n",
      "REASON     3585 non-null category\n",
      "JOB        3585 non-null category\n",
      "YOJ        3585 non-null int32\n",
      "DEROG      3585 non-null float64\n",
      "DELINQ     3585 non-null float64\n",
      "CLAGE      3585 non-null int32\n",
      "NINQ       3585 non-null float64\n",
      "CLNO       3585 non-null int32\n",
      "DEBTINC    3585 non-null float64\n",
      "dtypes: category(3), float64(6), int32(3), int64(1)\n",
      "memory usage: 276.7 KB\n"
     ]
    }
   ],
   "source": [
    "# Removing any duplicate values in the data if existed \n",
    "\n",
    "df=df.drop_duplicates()\n",
    "#print(df)  # There were no duplicate values in the data\n",
    "\n",
    "# Getting the count of the missing values\n",
    "\n",
    "df_missing=df.dropna()\n",
    "df_missing.info()\n",
    "\n",
    "# Almost 40 % of the data wil be lost if we drop all the missing values \n"
   ]
  },
  {
   "cell_type": "code",
   "execution_count": 6,
   "metadata": {
    "collapsed": false
   },
   "outputs": [
    {
     "data": {
      "text/plain": [
       "BAD        0\n",
       "LOAN       0\n",
       "MORTDUE    0\n",
       "VALUE      0\n",
       "REASON     0\n",
       "JOB        0\n",
       "YOJ        0\n",
       "DEROG      0\n",
       "DELINQ     0\n",
       "CLAGE      0\n",
       "NINQ       0\n",
       "CLNO       0\n",
       "DEBTINC    0\n",
       "dtype: int64"
      ]
     },
     "execution_count": 6,
     "metadata": {},
     "output_type": "execute_result"
    }
   ],
   "source": [
    "# REPLACING  or IMPUTING MISSING VALUES\n",
    "\n",
    "# Most common category is replaced for missing values of categorical columns\n",
    "\n",
    "df.JOB=df.JOB.fillna('Other')\n",
    "df.REASON=df.REASON.fillna('DebtCon')\n",
    "\n",
    "# Mean of the values are filled for missing values of other columns\n",
    "\n",
    "df.MORTDUE=df.MORTDUE.fillna(df.MORTDUE.mean())\n",
    "df.VALUE=df.VALUE.fillna(df.VALUE.mean())\n",
    "df.DEBTINC =df.DEBTINC.fillna(df.DEBTINC.mean())\n",
    "\n",
    "df.DEROG.value_counts() # since 76% of the values are 0 , it will be imputed for NA \n",
    "df.DEROG=df.DEROG.fillna(0)\n",
    "\n",
    "df.DELINQ.value_counts() # since 70% of values are 0,it will be imputed for NA \n",
    "df.DELINQ=df.DELINQ.fillna(0)\n",
    "\n",
    "df.NINQ.value_counts(dropna=False) # since 42% of values are 0,it will be imputed for NA \n",
    "\n",
    "df.NINQ=df.NINQ.fillna(0)\n",
    "\n",
    "df.isnull().sum() # Verified that there are no null values\n"
   ]
  },
  {
   "cell_type": "code",
   "execution_count": 33,
   "metadata": {
    "collapsed": false
   },
   "outputs": [
    {
     "name": "stdout",
     "output_type": "stream",
     "text": [
      "count    5959.000000\n",
      "mean      179.091290\n",
      "std        82.580906\n",
      "min         0.000000\n",
      "25%       117.000000\n",
      "50%       178.000000\n",
      "75%       227.000000\n",
      "max      1154.000000\n",
      "Name: CLAGE, dtype: float64\n",
      "count    5959.000000\n",
      "mean        8.826481\n",
      "std         7.255013\n",
      "min         0.000000\n",
      "25%         3.000000\n",
      "50%         8.000000\n",
      "75%        12.000000\n",
      "max        41.000000\n",
      "Name: YOJ, dtype: float64\n",
      "count      5959.000000\n",
      "mean     101766.645662\n",
      "std       56844.065933\n",
      "min        8000.000000\n",
      "25%       66488.000000\n",
      "50%       90000.000000\n",
      "75%      118970.500000\n",
      "max      855909.000000\n",
      "Name: VALUE, dtype: float64\n",
      "count    5959.000000\n",
      "mean       33.778837\n",
      "std         7.632899\n",
      "min         0.524499\n",
      "25%        30.757681\n",
      "50%        33.779915\n",
      "75%        37.947558\n",
      "max       203.312149\n",
      "Name: DEBTINC, dtype: float64\n"
     ]
    },
    {
     "data": {
      "image/png": "[encoded data removed]",
      "text/plain": [
       "<matplotlib.figure.Figure at 0x1c1f52f4240>"
      ]
     },
     "metadata": {},
     "output_type": "display_data"
    }
   ],
   "source": [
    "# IDENTIFYING  OUTLIERS\n",
    "\n",
    "# Reviewing columns to find outliers  , CLNO: Number of credit lines\n",
    "\n",
    "#print (df.CLNO.describe())  \n",
    "#print (df.LOAN.describe())\n",
    "\n",
    "# BOX PLOTS TO FIND OUTLIERS\n",
    "\n",
    "f, axes = plt.subplots(1, 4)\n",
    "import seaborn as sns\n",
    "sns.boxplot(x=df.CLAGE, ax=axes[0])\n",
    "sns.boxplot(x=df.YOJ, ax=axes[1])\n",
    "sns.boxplot(x=df.VALUE, ax=axes[2])\n",
    "sns.boxplot(x=df.DEBTINC,ax=axes[3])\n",
    "\n",
    "print (df.CLAGE.describe())\n",
    "\n",
    "# We found the outlier value 1168 months( or 97 years) which is logically incorrect for the age of oldest credit line.\n",
    "\n",
    "\n",
    "print(df.YOJ.describe())\n",
    "\n",
    "# Though value 41 looks as outlier, the value is logical and hence will not be removed from data\n",
    "\n",
    "print (df.VALUE.describe())\n",
    "\n",
    "# Again 855909 is logical and  hence will not be removed from data\n",
    "\n",
    "print (df.DEBTINC.describe())\n",
    "\n",
    "# The value 203 is defintely an incorrect value for the DEBTINC(debt to income ratio )\n",
    "\n"
   ]
  },
  {
   "cell_type": "code",
   "execution_count": 39,
   "metadata": {
    "collapsed": false,
    "scrolled": true
   },
   "outputs": [
    {
     "name": "stdout",
     "output_type": "stream",
     "text": [
      "<class 'pandas.core.frame.DataFrame'>\n",
      "Int64Index: 5959 entries, 0 to 5959\n",
      "Data columns (total 13 columns):\n",
      "BAD        5959 non-null category\n",
      "LOAN       5959 non-null int64\n",
      "MORTDUE    5959 non-null float64\n",
      "VALUE      5959 non-null float64\n",
      "REASON     5959 non-null category\n",
      "JOB        5959 non-null category\n",
      "YOJ        5959 non-null int32\n",
      "DEROG      5959 non-null float64\n",
      "DELINQ     5959 non-null float64\n",
      "CLAGE      5959 non-null int32\n",
      "NINQ       5959 non-null float64\n",
      "CLNO       5959 non-null int32\n",
      "DEBTINC    5959 non-null int32\n",
      "dtypes: category(3), float64(5), int32(4), int64(1)\n",
      "memory usage: 436.5 KB\n"
     ]
    }
   ],
   "source": [
    "# Removing the outliers\n",
    "\n",
    "df.loc[df['DEBTINC']== 203.312149]\n",
    "df.loc[df['CLAGE']==1168.000000]\n",
    "\n",
    "# Delete these rows from dataFrame\n",
    "\n",
    "\n",
    "CLAGE_index = df[ df['CLAGE']==1168.000000 ].index\n",
    "df.drop(CLAGE_index , inplace=True)\n",
    "\n",
    "\n",
    "DEBTINC_index=df[df['DEBTINC']==203.312149].index\n",
    "df.drop(DEBTINC_index , inplace=True)\n",
    "\n",
    "\n",
    "df.info()"
   ]
  }
 ],
 "metadata": {
  "kernelspec": {
   "display_name": "Python 3",
   "language": "python",
   "name": "python3"
  },
  "language_info": {
   "codemirror_mode": {
    "name": "ipython",
    "version": 3
   },
   "file_extension": ".py",
   "mimetype": "text/x-python",
   "name": "python",
   "nbconvert_exporter": "python",
   "pygments_lexer": "ipython3",
   "version": "3.6.0"
  }
 },
 "nbformat": 4,
 "nbformat_minor": 2
}
